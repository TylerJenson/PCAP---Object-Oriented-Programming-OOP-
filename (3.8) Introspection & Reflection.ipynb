{
 "cells": [
  {
   "cell_type": "code",
   "execution_count": 1,
   "id": "aadd4784",
   "metadata": {},
   "outputs": [],
   "source": [
    "# Introspection (CHECKS)\n",
    "    # ability of a program to CHECK the type of an object or its properties at runtime\n",
    "        # in other words --> allows you to get information about an object during the program\n",
    "        \n",
    "# Reflection (CHANGES)\n",
    "    # similar to introspection, but goes one step further\n",
    "    # ability of a program to CHANGE the properties or methods of an object at runtime"
   ]
  },
  {
   "cell_type": "code",
   "execution_count": 11,
   "id": "3c5ea9b7",
   "metadata": {},
   "outputs": [],
   "source": [
    "# TASK -- create a function that modifies all string properties of any object by turning them into empty strings\n",
    "    # how this is possible --> reflection and introspection\n",
    "\n",
    "def empty_strings(user_object):\n",
    "    for prop_name in user_object.__dict__.keys():\n",
    "        prop_value = getattr(user_object, prop_name)       #NEW --> returns the value of the given property\n",
    "        if isinstance(prop_value, str):                    #NEW --> 2 arguments (variable, type), return is a True or False\n",
    "            setattr(user_object, prop_name, '')            #NEW --> 3 arguments -- sets a new value for a given property in a \n",
    "                                                                    # given object\n"
   ]
  },
  {
   "cell_type": "code",
   "execution_count": 12,
   "id": "06d1612a",
   "metadata": {},
   "outputs": [],
   "source": [
    "# new items\n",
    "\n",
    "# getattr()\n",
    "    # returns the value of the named attribute of an object. If not found, it returns the default value provided to the function\n",
    "    \n",
    "# isinstance()\n",
    "    # returns True if the specified object is of the specified type, otherwise False\n",
    "\n",
    "# setattr()\n",
    "    # sets the value of the attribute of an object"
   ]
  },
  {
   "cell_type": "code",
   "execution_count": 3,
   "id": "77a55a0d",
   "metadata": {},
   "outputs": [],
   "source": [
    "# let's test it on the Doctor class\n",
    "\n",
    "class Doctor():\n",
    "    def __init__(self, first_name = 'John', last_name = 'Smith'):\n",
    "        self.first_name = first_name\n",
    "        self.last_name = last_name\n",
    "        self.__format_names()\n",
    "        \n",
    "    def __format_names(self):\n",
    "        self.first_name = self.first_name.title()\n",
    "        self.last_name = self.last_name.title()\n",
    "        \n",
    "    def introduce(self):\n",
    "        print('Hi, I am', self.first_name)\n",
    "        \n",
    "    def compare_name(self, name_to_compare):\n",
    "        if self.first_name == name_to_compare:\n",
    "            print('we have the same name...')\n",
    "        else:\n",
    "            print('we have different... names....?')\n",
    "            \n",
    "    def get_first_last_name_together(self):\n",
    "        return self.first_name + ' ' + self.last_name"
   ]
  },
  {
   "cell_type": "code",
   "execution_count": 13,
   "id": "f6181270",
   "metadata": {},
   "outputs": [
    {
     "name": "stdout",
     "output_type": "stream",
     "text": [
      "Hi, I am Tyler\n",
      "Hi, I am \n"
     ]
    }
   ],
   "source": [
    "# create an object of the doctor class\n",
    "\n",
    "doc_tyler = Doctor('Tyler','Jenson') # created new object\n",
    "doc_tyler.introduce()                # invoked the introduce method in the class\n",
    "\n",
    "empty_strings(doc_tyler)             # invoked the function we just created\n",
    "doc_tyler.introduce()                # invoked the introduce method in the class, post empty_strings function"
   ]
  },
  {
   "cell_type": "code",
   "execution_count": null,
   "id": "9189d9d1",
   "metadata": {},
   "outputs": [],
   "source": [
    "# output from previous cell\n",
    "    \n",
    "    # this shows that the function we created 'empty_strings' works correctly"
   ]
  }
 ],
 "metadata": {
  "kernelspec": {
   "display_name": "Python 3 (ipykernel)",
   "language": "python",
   "name": "python3"
  },
  "language_info": {
   "codemirror_mode": {
    "name": "ipython",
    "version": 3
   },
   "file_extension": ".py",
   "mimetype": "text/x-python",
   "name": "python",
   "nbconvert_exporter": "python",
   "pygments_lexer": "ipython3",
   "version": "3.10.9"
  }
 },
 "nbformat": 4,
 "nbformat_minor": 5
}
