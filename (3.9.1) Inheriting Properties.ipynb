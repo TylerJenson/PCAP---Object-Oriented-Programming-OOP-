{
 "cells": [
  {
   "cell_type": "code",
   "execution_count": 1,
   "id": "854c4751",
   "metadata": {},
   "outputs": [],
   "source": [
    "class Vehicle:\n",
    "    pass\n",
    "\n",
    "class LandVehicle(Vehicle):\n",
    "    pass\n",
    "\n",
    "class Car(LandVehicle):\n",
    "    pass"
   ]
  },
  {
   "cell_type": "code",
   "execution_count": 2,
   "id": "fb2b04d7",
   "metadata": {},
   "outputs": [
    {
     "name": "stdout",
     "output_type": "stream",
     "text": [
      "{}\n"
     ]
    }
   ],
   "source": [
    "my_car = Car()\n",
    "print(my_car.__dict__)\n",
    "\n",
    "# since there is nothing currently in the class"
   ]
  },
  {
   "cell_type": "code",
   "execution_count": 3,
   "id": "e332dd07",
   "metadata": {},
   "outputs": [],
   "source": [
    "# adding constructor to Vehicle class\n",
    "\n",
    "class Vehicle:\n",
    "    def __init__(self, speed):\n",
    "        self.speed = speed\n",
    "\n",
    "class LandVehicle(Vehicle):\n",
    "    pass\n",
    "\n",
    "class Car(LandVehicle):\n",
    "    pass"
   ]
  },
  {
   "cell_type": "code",
   "execution_count": 4,
   "id": "da248940",
   "metadata": {},
   "outputs": [
    {
     "ename": "TypeError",
     "evalue": "Vehicle.__init__() missing 1 required positional argument: 'speed'",
     "output_type": "error",
     "traceback": [
      "\u001b[1;31m---------------------------------------------------------------------------\u001b[0m",
      "\u001b[1;31mTypeError\u001b[0m                                 Traceback (most recent call last)",
      "Cell \u001b[1;32mIn[4], line 1\u001b[0m\n\u001b[1;32m----> 1\u001b[0m my_car \u001b[38;5;241m=\u001b[39m \u001b[43mCar\u001b[49m\u001b[43m(\u001b[49m\u001b[43m)\u001b[49m\n\u001b[0;32m      2\u001b[0m \u001b[38;5;28mprint\u001b[39m(my_car\u001b[38;5;241m.\u001b[39m\u001b[38;5;18m__dict__\u001b[39m)\n",
      "\u001b[1;31mTypeError\u001b[0m: Vehicle.__init__() missing 1 required positional argument: 'speed'"
     ]
    }
   ],
   "source": [
    "my_car = Car()\n",
    "print(my_car.__dict__)\n",
    "\n",
    "# now if you run the code, it fails --> the constructor is missing one required positional argument named 'speed'\n",
    "    # how is that possible if 'Car' class doesn't have a constructor?\n",
    "        # answer --> if there is no constructor in the specified class, Python looks for one in all super classes \n",
    "            # that being said, it found the parameter 'speed' in the Vehicle class\n",
    "            # therefore, all properties and methods defined in vehicle, will therefore be visible in car"
   ]
  },
  {
   "cell_type": "code",
   "execution_count": 5,
   "id": "647bdff7",
   "metadata": {},
   "outputs": [
    {
     "name": "stdout",
     "output_type": "stream",
     "text": [
      "{'speed': 50}\n"
     ]
    }
   ],
   "source": [
    "# provide a speed parameter for the object within the Car class\n",
    "\n",
    "my_car = Car(50)\n",
    "print(my_car.__dict__)"
   ]
  },
  {
   "cell_type": "code",
   "execution_count": 13,
   "id": "0f21b9a7",
   "metadata": {},
   "outputs": [],
   "source": [
    "# what happens if we create a constructor in the 'LandVehicle' class?\n",
    "\n",
    "class Vehicle:\n",
    "    def __init__(self, speed):\n",
    "        self.speed = speed\n",
    "\n",
    "class LandVehicle(Vehicle):\n",
    "    def __init__(self, wheel_count):\n",
    "        self.wheel_count = wheel_count\n",
    "\n",
    "class Car(LandVehicle):\n",
    "    pass"
   ]
  },
  {
   "cell_type": "code",
   "execution_count": 14,
   "id": "61dc666e",
   "metadata": {},
   "outputs": [
    {
     "name": "stdout",
     "output_type": "stream",
     "text": [
      "{'wheel_count': 50}\n"
     ]
    }
   ],
   "source": [
    "my_car = Car(50)\n",
    "print(my_car.__dict__)\n",
    "\n",
    "# it's no longer taking the constructor from the 'Vehicle' class, but taking the constructor for the 'LandVehicle' class\n",
    "\n",
    "# rule --> Python only inherits the constructor from the superclass if there is no constructor in the given class"
   ]
  },
  {
   "cell_type": "code",
   "execution_count": 15,
   "id": "132d6def",
   "metadata": {},
   "outputs": [],
   "source": [
    "# how do we connect all properties of classes (super classes / sub classes)\n",
    "    # answer --> we need to invoke their constructor from another constuctor directly; 1st line after constructor\n",
    "    # 2 options\n",
    "        # Class.__init__(self, parameter)\n",
    "        # super().__init__(parameter)\n",
    "\n",
    "class Vehicle:\n",
    "    def __init__(self, speed):\n",
    "        self.speed = speed\n",
    "\n",
    "class LandVehicle(Vehicle):\n",
    "    def __init__(self, speed, wheel_count):  # added speed in the LandVehicle constructor parameter, \n",
    "                                             # this needed to be added in order for the speed parameter in the Vehicle class to work\n",
    "        Vehicle.__init__(self, speed)        # invoking constructor in 'Vehicle' class\n",
    "        self.wheel_count = wheel_count\n",
    "\n",
    "class Car(LandVehicle):\n",
    "    pass"
   ]
  },
  {
   "cell_type": "code",
   "execution_count": 16,
   "id": "76797c6a",
   "metadata": {},
   "outputs": [
    {
     "name": "stdout",
     "output_type": "stream",
     "text": [
      "{'speed': 5, 'wheel_count': 10}\n"
     ]
    }
   ],
   "source": [
    "my_car = Car(5, 10)\n",
    "print(my_car.__dict__)"
   ]
  },
  {
   "cell_type": "code",
   "execution_count": 17,
   "id": "926d5665",
   "metadata": {},
   "outputs": [],
   "source": [
    "# what we did above in the 'landVehicle' class constructor --> ALLOWS US TO USE CONSTRUCTORS FROM SUPER CLASSES\n",
    "\n",
    "# there are two options\n",
    "    # Vehicle.__init__(self, speed) ### what we did above\n",
    "    # super().__init__(speed)\n",
    "    \n",
    "# difference\n",
    "    # super() --> don't need to supply the self parameter"
   ]
  },
  {
   "cell_type": "code",
   "execution_count": null,
   "id": "c6e9cefc",
   "metadata": {},
   "outputs": [],
   "source": []
  }
 ],
 "metadata": {
  "kernelspec": {
   "display_name": "Python 3 (ipykernel)",
   "language": "python",
   "name": "python3"
  },
  "language_info": {
   "codemirror_mode": {
    "name": "ipython",
    "version": 3
   },
   "file_extension": ".py",
   "mimetype": "text/x-python",
   "name": "python",
   "nbconvert_exporter": "python",
   "pygments_lexer": "ipython3",
   "version": "3.10.9"
  }
 },
 "nbformat": 4,
 "nbformat_minor": 5
}
