{
 "cells": [
  {
   "cell_type": "code",
   "execution_count": 1,
   "id": "6dd45074",
   "metadata": {},
   "outputs": [],
   "source": [
    "# classes and objects\n",
    "    # objects can't exist without classes\n",
    "    #  classes --> templates used to create objects\n",
    "    # classes can contain 2 types of entities\n",
    "        # variables, called 'attributes'\n",
    "        # functions, called 'methods'\n",
    "        \n",
    "    # objects contain the attributes and methods specified in the class"
   ]
  },
  {
   "cell_type": "code",
   "execution_count": 2,
   "id": "22b7e819",
   "metadata": {},
   "outputs": [
    {
     "name": "stdout",
     "output_type": "stream",
     "text": [
      "Hello, I am sampleNickname and I live in sampleCity\n"
     ]
    }
   ],
   "source": [
    "# creating classes (detailed)\n",
    "    # we always start with the 'class' keyword, followed by 'the name of the class', and the 'colon' convention\n",
    "            # class names start with Capital letters, and do not include special characters or numbers\n",
    "        \n",
    "    # we want each user 'object' to have a username and city --> this requires a 'constructor', a method inside the class\n",
    "        # the 'constructor' is created in a very specific way\n",
    "           #  --> def __init__(self)\n",
    "        # all python constructors must have at least one parameter -- the convention is using 'self'\n",
    "            # the 'self' parameter is always pointing to the object you are currently creating within the constructor\n",
    "class User:\n",
    "    def __init__(self): # this is the 'constructor' of new objects\n",
    "        self.nickname = 'sampleNickname' # these 'create the attributes' to the object you are creating\n",
    "        self.city = 'sampleCity' # in order to create the attributes, you need to have 'self.' before the attribute name\n",
    "            # from this example, each object created will have the same 'nickname' and 'city'\n",
    "            \n",
    "    def introduce(self): # we are not creating a constructor, so we can give the method any name we want\n",
    "                # 'self' --> using again, and it refers to the 'current object'\n",
    "        print('Hello, I am', self.nickname, 'and I live in', self.city)\n",
    "        \n",
    "        \n",
    "# we are now going to create an object from the 'User' class\n",
    "\n",
    "sample_user = User()\n",
    "            # whenever we provide a name of an existing class (User), followed by parenthesis, Python knows it should \n",
    "                # create a new object from the class --> by calling the constructor\n",
    "        \n",
    "            # IMPORTANT --> even though the constructor has a parameter called 'self', we DO NOT provide a value for that\n",
    "                # parameter when creating an object of the class\n",
    "                \n",
    "sample_user.introduce()\n",
    "    # this calls the introduce method in the class\n",
    "    # in order to call a 'method' on an object, we need to provide the 'variable' in which the object is stored (sample_user)\n",
    "        # then we need to use a dot followed by the name of the 'method' and empty parenthesis ()"
   ]
  },
  {
   "cell_type": "code",
   "execution_count": 1,
   "id": "1c6a8f5c",
   "metadata": {},
   "outputs": [
    {
     "name": "stdout",
     "output_type": "stream",
     "text": [
      "Hello, I am sampleNickname and I live in sampleCity\n",
      "sampleNickname\n"
     ]
    }
   ],
   "source": [
    "# creating classes (with no notes)\n",
    "\n",
    "class User:\n",
    "    def __init__(self):\n",
    "        self.nickname = 'sampleNickname'\n",
    "        self.city = 'sampleCity'\n",
    "        \n",
    "    def introduce(self):\n",
    "        print('Hello, I am', self.nickname, 'and I live in', self.city)\n",
    "        \n",
    "        \n",
    "sample_user = User()\n",
    "\n",
    "sample_user.introduce()"
   ]
  },
  {
   "cell_type": "code",
   "execution_count": 2,
   "id": "b13fbb2c",
   "metadata": {},
   "outputs": [
    {
     "name": "stdout",
     "output_type": "stream",
     "text": [
      "sampleNickname\n",
      "sampleCity\n"
     ]
    }
   ],
   "source": [
    "# objects and what attributes they hold\n",
    "# specific object.attribute\n",
    "print(sample_user.nickname)\n",
    "print(sample_user.city)"
   ]
  },
  {
   "cell_type": "code",
   "execution_count": 5,
   "id": "c35c8ad0",
   "metadata": {},
   "outputs": [
    {
     "name": "stdout",
     "output_type": "stream",
     "text": [
      "Hello, I am BabaBooee and I live in New York\n",
      "BabaBooee\n",
      "New York\n"
     ]
    }
   ],
   "source": [
    "# similar class; but more details and sophisticated\n",
    "\n",
    "class User:\n",
    "    def __init__(self, user_nickname, user_city): # added two parameters\n",
    "        self.nickname = user_nickname # rather than the default string, added parameter\n",
    "        self.city = user_city # rather than the default string, added parameter\n",
    "        \n",
    "    def introduce(self):\n",
    "        print('Hello, I am', self.nickname, 'and I live in', self.city)\n",
    "        \n",
    "        \n",
    "sample_user = User('BabaBooee', 'New York') # class has 3 parameters, but only need to supply the 2 parameters\n",
    "sample_user.introduce()\n",
    "\n",
    "print(sample_user.nickname)\n",
    "print(sample_user.city)"
   ]
  },
  {
   "cell_type": "code",
   "execution_count": 7,
   "id": "8cc3ffd4",
   "metadata": {},
   "outputs": [],
   "source": [
    "# adding more objects to the User class\n",
    "\n",
    "first_user = User('Ant Man', 'Minnesota')\n",
    "second_user = User('Black Widdow', 'Estonia')\n",
    "third_user = User('Iron Man', 'Hamptons')"
   ]
  },
  {
   "cell_type": "code",
   "execution_count": 8,
   "id": "780894f8",
   "metadata": {},
   "outputs": [
    {
     "name": "stdout",
     "output_type": "stream",
     "text": [
      "Hello, I am Ant Man and I live in Minnesota\n",
      "Hello, I am Black Widdow and I live in Estonia\n",
      "Hello, I am Iron Man and I live in Hamptons\n"
     ]
    }
   ],
   "source": [
    "# provoking the 'introduce' method in the User class\n",
    "\n",
    "first_user.introduce()\n",
    "second_user.introduce()\n",
    "third_user.introduce()"
   ]
  },
  {
   "cell_type": "code",
   "execution_count": null,
   "id": "ae8ca443",
   "metadata": {},
   "outputs": [],
   "source": []
  }
 ],
 "metadata": {
  "kernelspec": {
   "display_name": "Python 3 (ipykernel)",
   "language": "python",
   "name": "python3"
  },
  "language_info": {
   "codemirror_mode": {
    "name": "ipython",
    "version": 3
   },
   "file_extension": ".py",
   "mimetype": "text/x-python",
   "name": "python",
   "nbconvert_exporter": "python",
   "pygments_lexer": "ipython3",
   "version": "3.10.9"
  }
 },
 "nbformat": 4,
 "nbformat_minor": 5
}
