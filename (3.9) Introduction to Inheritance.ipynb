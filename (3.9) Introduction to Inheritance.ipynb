{
 "cells": [
  {
   "cell_type": "code",
   "execution_count": 1,
   "id": "afbce103",
   "metadata": {},
   "outputs": [],
   "source": [
    "# Inheritance\n",
    "    # mechanism where one object or class is based on another object or class\n",
    "    # this allows us to make...\n",
    "    # 'super classes'\n",
    "        # broader and more general\n",
    "    # 'sub classes'\n",
    "        # detailed and concrete\n",
    "        \n",
    "# example -- super classes & sub classes\n",
    "\n",
    "    # Vehicle (super class) <--> land vehicle (sub class of vehicle) <--> car & motorcycle (sub classes of land vehicle)\n",
    "    # whether it's a super class and subclass depends on what is being presented"
   ]
  },
  {
   "cell_type": "code",
   "execution_count": 2,
   "id": "610453bf",
   "metadata": {},
   "outputs": [],
   "source": [
    "# creation of multiple classes -- Vehicle, land vehicle, car\n",
    "# (below)\n",
    "\n",
    "# pass --> means 'do nothing'; is within each class because Python doesn't allow each class to be empty\n"
   ]
  },
  {
   "cell_type": "code",
   "execution_count": 3,
   "id": "305d6dd3",
   "metadata": {},
   "outputs": [],
   "source": [
    "class Vehicle:\n",
    "    pass"
   ]
  },
  {
   "cell_type": "code",
   "execution_count": 4,
   "id": "1502d0ad",
   "metadata": {},
   "outputs": [],
   "source": [
    "# in the argument during class creation, we provide the name of the 'super class', in this case 'Vehicle'\n",
    "\n",
    "class LandVehicle(Vehicle):\n",
    "    pass"
   ]
  },
  {
   "cell_type": "code",
   "execution_count": 5,
   "id": "fe9e3f5c",
   "metadata": {},
   "outputs": [],
   "source": [
    "# much like the 'LandVehicle' class\n",
    "# in the argument during class creation, we provide the name of the 'super class', in this case 'LandVehicle'\n",
    "\n",
    "class Car(LandVehicle):\n",
    "    pass"
   ]
  },
  {
   "cell_type": "code",
   "execution_count": 6,
   "id": "2ab7b055",
   "metadata": {},
   "outputs": [
    {
     "data": {
      "text/plain": [
       "True"
      ]
     },
     "execution_count": 6,
     "metadata": {},
     "output_type": "execute_result"
    }
   ],
   "source": [
    "# issubclass()\n",
    "    # checks if the class argument (first argument) is a subclass of classinfo class (second argument)\n",
    "    # returns a boolean\n",
    "    \n",
    "issubclass(Car, LandVehicle)"
   ]
  },
  {
   "cell_type": "code",
   "execution_count": 8,
   "id": "665e5254",
   "metadata": {},
   "outputs": [
    {
     "data": {
      "text/plain": [
       "True"
      ]
     },
     "execution_count": 8,
     "metadata": {},
     "output_type": "execute_result"
    }
   ],
   "source": [
    "issubclass(LandVehicle, Vehicle)"
   ]
  },
  {
   "cell_type": "code",
   "execution_count": 9,
   "id": "996a2c8c",
   "metadata": {},
   "outputs": [
    {
     "data": {
      "text/plain": [
       "True"
      ]
     },
     "execution_count": 9,
     "metadata": {},
     "output_type": "execute_result"
    }
   ],
   "source": [
    "# additionally, if you test a subclass of a subclass, of the super class (Car, Vehicle), the boolean result will be True\n",
    "\n",
    "issubclass(Car, Vehicle)"
   ]
  },
  {
   "cell_type": "code",
   "execution_count": 10,
   "id": "f4900b83",
   "metadata": {},
   "outputs": [
    {
     "data": {
      "text/plain": [
       "True"
      ]
     },
     "execution_count": 10,
     "metadata": {},
     "output_type": "execute_result"
    }
   ],
   "source": [
    "# Interestingly, Car will also be a subclass of itself\n",
    "\n",
    "issubclass(Car, Car)"
   ]
  },
  {
   "cell_type": "code",
   "execution_count": null,
   "id": "d265bc89",
   "metadata": {},
   "outputs": [],
   "source": []
  }
 ],
 "metadata": {
  "kernelspec": {
   "display_name": "Python 3 (ipykernel)",
   "language": "python",
   "name": "python3"
  },
  "language_info": {
   "codemirror_mode": {
    "name": "ipython",
    "version": 3
   },
   "file_extension": ".py",
   "mimetype": "text/x-python",
   "name": "python",
   "nbconvert_exporter": "python",
   "pygments_lexer": "ipython3",
   "version": "3.10.9"
  }
 },
 "nbformat": 4,
 "nbformat_minor": 5
}
