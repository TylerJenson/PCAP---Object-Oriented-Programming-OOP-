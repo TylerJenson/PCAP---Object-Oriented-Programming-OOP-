{
 "cells": [
  {
   "cell_type": "code",
   "execution_count": 1,
   "id": "72d7b9d7",
   "metadata": {},
   "outputs": [],
   "source": [
    "# Diamond Problem\n",
    "    # arisen when there are two classes say B and C that inherit / are derived from a single class A, and there is \n",
    "    # another class D, that is a class derived from multiple inheritance and inherits from B as well as C \n",
    "        # picture this in the shape of a 'diamond'\n",
    "    # solution --> method resolution order (MRO)\n",
    "        # look inside the object, if not found -- look in the superclasses from left to right, if not found --> error"
   ]
  },
  {
   "cell_type": "code",
   "execution_count": 5,
   "id": "3a6e65fd",
   "metadata": {},
   "outputs": [],
   "source": [
    "# Diamond Problem Example; 'Vehicle' is at the top (A), 'ElectricVehicle' (B) & 'PetrolVehicle' (C) is in the middle\n",
    "#                          'HybridCar' (D) is at the bottom -- relating to the 'diamond'\n",
    "\n",
    "class Vehicle():\n",
    "    def show_power_type(self):\n",
    "        print('i can use power from various sources')\n",
    "        \n",
    "class ElectricVehicle(Vehicle):\n",
    "    def show_power_type(self):\n",
    "        print('i can use power from electricity')\n",
    "        \n",
    "class PetrolVehicle(Vehicle):\n",
    "    def show_power_type(self):\n",
    "        print('i can use power from petrol')\n",
    "        \n",
    "class HybridCar(ElectricVehicle, PetrolVehicle):\n",
    "    pass\n",
    "\n",
    "    # since there is no methods within the 'HybridCar' class, the methods will be inherited from the parent classes\n",
    "    # however, which class & method will it inherit from? ElectricVehicle or PetrolVehicle?"
   ]
  },
  {
   "cell_type": "code",
   "execution_count": 6,
   "id": "76e24a04",
   "metadata": {},
   "outputs": [],
   "source": [
    "# Diamond Problem example -- continued\n",
    "    # in Python -- the resolution to this issue is Method Resolution Order (MRO)\n",
    "        #  look inside the object, if not found -- look in the superclasses from left to right, if not found --> error\n",
    "        \n",
    "    # As a result, the choice of the method depends on how you define the inheritance in the class set up\n",
    "        # example --> class HybridCar(ElectricVehicle, PetrolVehicle)"
   ]
  },
  {
   "cell_type": "code",
   "execution_count": 8,
   "id": "fa7dc6d8",
   "metadata": {},
   "outputs": [
    {
     "name": "stdout",
     "output_type": "stream",
     "text": [
      "i can use power from electricity\n"
     ]
    }
   ],
   "source": [
    "# Diamond Problem, example 2\n",
    "\n",
    "my_nissan = HybridCar()\n",
    "my_nissan.show_power_type()\n",
    "\n",
    "# output --> as you see, it inherits from the ElectricVehicle class due to MRO (Method Resolution Order)\n",
    "    # if PetrolVehicle was the first class in the setup (left to right), the PetrolVehicle method would have been used"
   ]
  },
  {
   "cell_type": "code",
   "execution_count": null,
   "id": "857fd8ca",
   "metadata": {},
   "outputs": [],
   "source": []
  }
 ],
 "metadata": {
  "kernelspec": {
   "display_name": "Python 3 (ipykernel)",
   "language": "python",
   "name": "python3"
  },
  "language_info": {
   "codemirror_mode": {
    "name": "ipython",
    "version": 3
   },
   "file_extension": ".py",
   "mimetype": "text/x-python",
   "name": "python",
   "nbconvert_exporter": "python",
   "pygments_lexer": "ipython3",
   "version": "3.10.9"
  }
 },
 "nbformat": 4,
 "nbformat_minor": 5
}
