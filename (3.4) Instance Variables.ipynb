{
 "cells": [
  {
   "cell_type": "code",
   "execution_count": 1,
   "id": "0a219465",
   "metadata": {},
   "outputs": [],
   "source": [
    "# create simple class \n",
    "\n",
    "class Dog():\n",
    "    def __init__(self, name, age):\n",
    "        self.name = name\n",
    "        self.age = age"
   ]
  },
  {
   "cell_type": "code",
   "execution_count": 6,
   "id": "29334469",
   "metadata": {},
   "outputs": [
    {
     "data": {
      "text/plain": [
       "{'name': 'Baxter', 'age': 1}"
      ]
     },
     "execution_count": 6,
     "metadata": {},
     "output_type": "execute_result"
    }
   ],
   "source": [
    "# create a new object\n",
    "\n",
    "my_dog = Dog('Baxter', 1)\n",
    "\n",
    "my_dog.__dict__  # returns the variables of the object (instance)"
   ]
  },
  {
   "cell_type": "code",
   "execution_count": 7,
   "id": "648f4fa2",
   "metadata": {},
   "outputs": [
    {
     "data": {
      "text/plain": [
       "{'name': 'Baxter', 'age': 1, 'color': 'brown'}"
      ]
     },
     "execution_count": 7,
     "metadata": {},
     "output_type": "execute_result"
    }
   ],
   "source": [
    "# adding new property to an existing object\n",
    "    # even though the Dog class has only defined 2 properties\n",
    "\n",
    "my_dog.color = 'brown'\n",
    "\n",
    "my_dog.__dict__"
   ]
  },
  {
   "cell_type": "code",
   "execution_count": 8,
   "id": "e78e14b1",
   "metadata": {},
   "outputs": [
    {
     "data": {
      "text/plain": [
       "{'age': 1, 'color': 'brown'}"
      ]
     },
     "execution_count": 8,
     "metadata": {},
     "output_type": "execute_result"
    }
   ],
   "source": [
    "# delete a property\n",
    "    # using the 'del' keyword, we can delete any existing property of an object\n",
    "\n",
    "del my_dog.name\n",
    "\n",
    "my_dog.__dict__"
   ]
  },
  {
   "cell_type": "code",
   "execution_count": 5,
   "id": "98f4d0bc",
   "metadata": {},
   "outputs": [],
   "source": [
    "# consequences of adding properties manually\n",
    "    # first, you must be aware that different objects of the same class, can have DIFFERENT properties\n",
    "    # second, each object has its own set of properties with its own values\n",
    "        # the properties of one object don't interfere with the properties of another object\n",
    "        # these are called 'INSTANCE VARIABLES'\n",
    "            # instance is another name for an object"
   ]
  },
  {
   "cell_type": "code",
   "execution_count": 9,
   "id": "2c1c0b2c",
   "metadata": {},
   "outputs": [],
   "source": [
    "# how would you know which 'instance variables' are available in a given object, in a given place in your code?\n",
    "    # --> using __dict__ --> returns a dictionary"
   ]
  },
  {
   "cell_type": "code",
   "execution_count": 10,
   "id": "9809256c",
   "metadata": {},
   "outputs": [],
   "source": [
    "# create the same class, but with private properties\n",
    "\n",
    "class Dog():\n",
    "    def __init__(self, name, age):\n",
    "        self.__name = name          # made this property, private\n",
    "        self.age = age"
   ]
  },
  {
   "cell_type": "code",
   "execution_count": 13,
   "id": "38c984f6",
   "metadata": {},
   "outputs": [
    {
     "name": "stdout",
     "output_type": "stream",
     "text": [
      "{'_Dog__name': 'Baxter', 'age': 1}\n"
     ]
    },
    {
     "ename": "AttributeError",
     "evalue": "'Dog' object has no attribute '__name'",
     "output_type": "error",
     "traceback": [
      "\u001b[1;31m---------------------------------------------------------------------------\u001b[0m",
      "\u001b[1;31mAttributeError\u001b[0m                            Traceback (most recent call last)",
      "Cell \u001b[1;32mIn[13], line 11\u001b[0m\n\u001b[0;32m      5\u001b[0m \u001b[38;5;28mprint\u001b[39m(my_dog\u001b[38;5;241m.\u001b[39m\u001b[38;5;18m__dict__\u001b[39m)\n\u001b[0;32m      7\u001b[0m \u001b[38;5;66;03m# when Python sees that you want to add a private property (name) with two underscore signs in front of it...\u001b[39;00m\n\u001b[0;32m      8\u001b[0m     \u001b[38;5;66;03m# it uses NAME MANGLING --> you get an additional underscore sign and the class name before the actual name\u001b[39;00m\n\u001b[1;32m---> 11\u001b[0m \u001b[38;5;28mprint\u001b[39m(\u001b[43mmy_dog\u001b[49m\u001b[38;5;241;43m.\u001b[39;49m\u001b[43m__name\u001b[49m)\n",
      "\u001b[1;31mAttributeError\u001b[0m: 'Dog' object has no attribute '__name'"
     ]
    }
   ],
   "source": [
    "# create the same object as before\n",
    "\n",
    "my_dog = Dog('Baxter', 1)\n",
    "\n",
    "print(my_dog.__dict__)\n",
    "\n",
    "# when Python sees that you want to add a private property (name) with two underscore signs in front of it...\n",
    "    # it uses NAME MANGLING --> you get an additional underscore sign and the class name before the actual name\n",
    "    \n",
    "\n",
    "print(my_dog.__name) # you will get an error with this --> but you can still access the property with the different name"
   ]
  },
  {
   "cell_type": "code",
   "execution_count": 14,
   "id": "26facb80",
   "metadata": {},
   "outputs": [
    {
     "name": "stdout",
     "output_type": "stream",
     "text": [
      "{'_Dog__name': 'Baxter', 'age': 1}\n",
      "Baxter\n"
     ]
    }
   ],
   "source": [
    "my_dog = Dog('Baxter', 1)\n",
    "print(my_dog.__dict__)\n",
    "print(my_dog._Dog__name) ## this is how you would access the property, outside the class, even though it is private\n",
    "\n",
    "# this means, we need to treat the __ (single / double underscore) prefix as a warning; it means that the creator of the class\n",
    "    # believes you shouldn't modify the given property directly"
   ]
  },
  {
   "cell_type": "code",
   "execution_count": 15,
   "id": "fa043814",
   "metadata": {},
   "outputs": [],
   "source": [
    "# remember\n",
    "# name mangling only works if you use the __ (double underscore) prefix inside the class\n",
    "    # if you try to add a property later in the code outside the class code, name mangling will not work"
   ]
  },
  {
   "cell_type": "code",
   "execution_count": 18,
   "id": "907dd238",
   "metadata": {},
   "outputs": [
    {
     "name": "stdout",
     "output_type": "stream",
     "text": [
      "{'_Dog__name': 'Baxter', 'age': 1, '__breed': 'Bulldog'}\n"
     ]
    }
   ],
   "source": [
    "# example -- 'name mangling' not working\n",
    "\n",
    "my_dog.__breed = 'Bulldog' # using double underscore outside the class code\n",
    "print(my_dog.__dict__)\n",
    "\n",
    "# as you see for 'name' --> name mangling\n",
    "# 'breed' --> shows the exact syntax of the property you added outside the class code"
   ]
  },
  {
   "cell_type": "code",
   "execution_count": null,
   "id": "8d7be886",
   "metadata": {},
   "outputs": [],
   "source": []
  }
 ],
 "metadata": {
  "kernelspec": {
   "display_name": "Python 3 (ipykernel)",
   "language": "python",
   "name": "python3"
  },
  "language_info": {
   "codemirror_mode": {
    "name": "ipython",
    "version": 3
   },
   "file_extension": ".py",
   "mimetype": "text/x-python",
   "name": "python",
   "nbconvert_exporter": "python",
   "pygments_lexer": "ipython3",
   "version": "3.10.9"
  }
 },
 "nbformat": 4,
 "nbformat_minor": 5
}
