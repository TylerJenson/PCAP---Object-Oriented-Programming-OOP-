{
 "cells": [
  {
   "cell_type": "code",
   "execution_count": 3,
   "id": "6f3eb7a7",
   "metadata": {},
   "outputs": [],
   "source": [
    "# Now that you understand inheritance, it's time to examine one more property required for PCAP: __bases__.\n",
    "\n",
    "# The __bases__ property of a class returns a TUPLE with all the base classes that the given class inherits from"
   ]
  },
  {
   "cell_type": "code",
   "execution_count": 4,
   "id": "789c6ff5",
   "metadata": {},
   "outputs": [],
   "source": [
    "class Vehicle():\n",
    "   pass\n",
    "        \n",
    "class Rideable():\n",
    "   pass\n",
    "      \n",
    "class PetrolVehicle(Vehicle):\n",
    "   pass\n",
    "        \n",
    "class Car(PetrolVehicle, Rideable):\n",
    "   pass"
   ]
  },
  {
   "cell_type": "code",
   "execution_count": 5,
   "id": "7e84387f",
   "metadata": {},
   "outputs": [
    {
     "name": "stdout",
     "output_type": "stream",
     "text": [
      "(<class 'object'>,)\n",
      "(<class 'object'>,)\n"
     ]
    }
   ],
   "source": [
    "# Let us see what __bases__ will return for each of them\n",
    "\n",
    "# bases for Vehicle and Rideable\n",
    "\n",
    "print(Vehicle.__bases__)\n",
    "print(Rideable.__bases__)"
   ]
  },
  {
   "cell_type": "code",
   "execution_count": 6,
   "id": "46997197",
   "metadata": {},
   "outputs": [],
   "source": [
    "# explanation of example above\n",
    "\n",
    "# These two classes have no base classes defined within their parenthesis. \n",
    "# However, you will see __bases__ return (<class 'object'>,) for them. \n",
    "# The reason why these classes inherit automatically from object is mostly historical. \n",
    "# You do not need to worry about it in any way -- just keep in mind you will see 'object' returned by __bases__ in such cases"
   ]
  },
  {
   "cell_type": "code",
   "execution_count": 7,
   "id": "e5f7de53",
   "metadata": {},
   "outputs": [
    {
     "name": "stdout",
     "output_type": "stream",
     "text": [
      "(<class '__main__.Vehicle'>,)\n"
     ]
    }
   ],
   "source": [
    "# bases for PetrolVehicle\n",
    "\n",
    "print(PetrolVehicle.__bases__)\n",
    "\n",
    "# output --> This will return (<class '__main__.Vehicle'>,), as Vehicle is the only direct parent class for PetrolVehicle"
   ]
  },
  {
   "cell_type": "code",
   "execution_count": 10,
   "id": "0acc0b5a",
   "metadata": {},
   "outputs": [
    {
     "name": "stdout",
     "output_type": "stream",
     "text": [
      "(<class '__main__.PetrolVehicle'>, <class '__main__.Rideable'>)\n"
     ]
    }
   ],
   "source": [
    "# bases for Car\n",
    "\n",
    "print(Car.__bases__)\n",
    "\n",
    "# output --> This will return (<class '__main__.PetrolVehicle'>, <class '__main__.Rideable'>), \n",
    "    # as Car has two direct parent classes: PetrolVehicle and Rideable. \n",
    "# We cannot see Vehicle here because Car inherits from it indirectly through PetrolVehicle."
   ]
  },
  {
   "cell_type": "code",
   "execution_count": null,
   "id": "8ddf86a6",
   "metadata": {},
   "outputs": [],
   "source": []
  }
 ],
 "metadata": {
  "kernelspec": {
   "display_name": "Python 3 (ipykernel)",
   "language": "python",
   "name": "python3"
  },
  "language_info": {
   "codemirror_mode": {
    "name": "ipython",
    "version": 3
   },
   "file_extension": ".py",
   "mimetype": "text/x-python",
   "name": "python",
   "nbconvert_exporter": "python",
   "pygments_lexer": "ipython3",
   "version": "3.10.9"
  }
 },
 "nbformat": 4,
 "nbformat_minor": 5
}
