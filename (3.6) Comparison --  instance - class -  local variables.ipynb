{
 "cells": [
  {
   "cell_type": "code",
   "execution_count": 1,
   "id": "dd58eabc",
   "metadata": {},
   "outputs": [],
   "source": [
    "# analyzing below\n",
    "\n",
    "    # class variables --> 'counter'\n",
    "        # the syntax, House.counter += 1, is a class variable, even though it's within the constructor (doesn't have self ref.)\n",
    "            # instead of 'self', the name of the class is used 'House'\n",
    "    # instance variables; inside constructor\n",
    "        # self.address\n",
    "        # self.area\n",
    "        # self.price\n",
    "        "
   ]
  },
  {
   "cell_type": "code",
   "execution_count": 3,
   "id": "ab424bd0",
   "metadata": {},
   "outputs": [
    {
     "name": "stdout",
     "output_type": "stream",
     "text": [
      "The house at 12 Lexington St, Soho has an area of 130 and costs 540000\n",
      "1\n"
     ]
    }
   ],
   "source": [
    "class House():\n",
    "    counter = 0\n",
    "    def __init__(self, address, area, price):\n",
    "        self.address = address\n",
    "        self.area = area\n",
    "        self.price = price\n",
    "        House.counter += 1\n",
    "        \n",
    "    def present(self):\n",
    "        print('The house at', self.address, 'has an area of', self.area, 'and costs', self.price)\n",
    "        \n",
    "\n",
    "my_house = House('12 Lexington St, Soho', 130, 540000)\n",
    "my_house.present()\n",
    "print(House.counter)"
   ]
  },
  {
   "cell_type": "code",
   "execution_count": 6,
   "id": "da5450af",
   "metadata": {},
   "outputs": [
    {
     "name": "stdout",
     "output_type": "stream",
     "text": [
      "low medium high\n",
      "The house at 12 Lexington St, Soho has an area of 130 and costs 540000\n",
      "1\n"
     ]
    }
   ],
   "source": [
    "# INSIDE class definition, in the constructor --> class, instance, local variables\n",
    "\n",
    "class House():\n",
    "    counter = 0\n",
    "    def __init__(self, address, area, price):\n",
    "        self.address = address\n",
    "        self.area = area\n",
    "        self.price = price\n",
    "        House.counter += 1\n",
    "        \n",
    "        House.quality = 'low'   # class variable\n",
    "        self.quality = 'medium' # instance variable\n",
    "        quality = 'high'   # local variable\n",
    "        \n",
    "        print(House.quality, self.quality, quality)  # look at this in the output, it shows up as the values\n",
    "        \n",
    "    def present(self):\n",
    "        print('The house at', self.address, 'has an area of', self.area, 'and costs', self.price)\n",
    "        \n",
    "\n",
    "my_house = House('12 Lexington St, Soho', 130, 540000)\n",
    "my_house.present()\n",
    "print(House.counter)"
   ]
  },
  {
   "cell_type": "code",
   "execution_count": 8,
   "id": "73d19b18",
   "metadata": {},
   "outputs": [
    {
     "name": "stdout",
     "output_type": "stream",
     "text": [
      "medium\n"
     ]
    }
   ],
   "source": [
    "# OUTSIDE class definition, in the constructor --> class, instance, local variables\n",
    "\n",
    "print(my_house.quality)  # you see that the 'instance' varaible printed to the output\n",
    "\n",
    "    # reason --> you can't use the object 'my_house' to access the class variable 'quality'\n",
    "        # because --> instance variables overrides the class variable with the same name"
   ]
  },
  {
   "cell_type": "code",
   "execution_count": 9,
   "id": "a68bfe11",
   "metadata": {},
   "outputs": [
    {
     "name": "stdout",
     "output_type": "stream",
     "text": [
      "low\n"
     ]
    }
   ],
   "source": [
    "# OUTSIDE class definition, if we want to see the 'class' variable instead\n",
    "    # we need to use the 'class' name\n",
    "    \n",
    "print(House.quality)\n"
   ]
  },
  {
   "cell_type": "code",
   "execution_count": null,
   "id": "eddc2148",
   "metadata": {},
   "outputs": [],
   "source": [
    "# OUTSIDE class definition; how can we see the local variable?\n",
    "\n",
    "# answer --> we can't\n",
    "    # local variables are only visible within the block where they are created"
   ]
  }
 ],
 "metadata": {
  "kernelspec": {
   "display_name": "Python 3 (ipykernel)",
   "language": "python",
   "name": "python3"
  },
  "language_info": {
   "codemirror_mode": {
    "name": "ipython",
    "version": 3
   },
   "file_extension": ".py",
   "mimetype": "text/x-python",
   "name": "python",
   "nbconvert_exporter": "python",
   "pygments_lexer": "ipython3",
   "version": "3.10.9"
  }
 },
 "nbformat": 4,
 "nbformat_minor": 5
}
