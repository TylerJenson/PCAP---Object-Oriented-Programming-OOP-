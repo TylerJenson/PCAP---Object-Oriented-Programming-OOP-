{
 "cells": [
  {
   "cell_type": "code",
   "execution_count": 31,
   "id": "d55d50db",
   "metadata": {},
   "outputs": [],
   "source": [
    "class Car:\n",
    "    def __init__(self, model, color, initial_speed = 0):  #constructor --> __init__ , default value can be set for parameters\n",
    "        self.model = model\n",
    "        self.color = color\n",
    "        if initial_speed < 0:  # solution to user putting a speed below 0\n",
    "                self.__speed = 0 # making the property private (.__speed)\n",
    "        else:\n",
    "            self.__speed = initial_speed\n",
    "        \n",
    "    def speed_up(self):     # adding speed_up and slow_down methods\n",
    "        self.__speed += 5\n",
    "        \n",
    "    def slow_down(self):\n",
    "        if self.__speed < 5:  # added an if - else statement so speed doesn't go below 0\n",
    "            self.__speed = 0\n",
    "        else:\n",
    "            self.__speed -= 5\n",
    "        \n",
    "    def show_speed(self):\n",
    "        print('curent speed:', self.__speed)"
   ]
  },
  {
   "cell_type": "code",
   "execution_count": 32,
   "id": "aea92078",
   "metadata": {},
   "outputs": [
    {
     "name": "stdout",
     "output_type": "stream",
     "text": [
      "curent speed: 0\n"
     ]
    }
   ],
   "source": [
    "# create a new object\n",
    "\n",
    "my_car = Car('Altima', 'Egg Shell White')\n",
    "\n",
    "# invoking methods within the class\n",
    "my_car.slow_down()\n",
    "my_car.slow_down()\n",
    "\n",
    "# showing car speed\n",
    "my_car.show_speed()\n",
    "\n",
    "# this is an issue, because you can't have a negative speed... \n",
    "\n",
    "# post putting in if-else statement\n",
    "    # speed no longer goes below zero"
   ]
  },
  {
   "cell_type": "code",
   "execution_count": 33,
   "id": "b5b70670",
   "metadata": {},
   "outputs": [
    {
     "name": "stdout",
     "output_type": "stream",
     "text": [
      "curent speed: 0\n"
     ]
    }
   ],
   "source": [
    "# create an object where user input is a negative value for speed\n",
    "\n",
    "car_two = Car('Hummer', 'Yellow', -30)\n",
    "\n",
    "car_two.show_speed()\n",
    "\n",
    "# solution --> we have to modify the constructor"
   ]
  },
  {
   "cell_type": "code",
   "execution_count": 34,
   "id": "db706744",
   "metadata": {},
   "outputs": [
    {
     "name": "stdout",
     "output_type": "stream",
     "text": [
      "curent speed: 0\n"
     ]
    }
   ],
   "source": [
    "# (1/2) preventing user input of a negative value when accessing the .speed method\n",
    "my_car.speed = - 100\n",
    "my_car.show_speed()"
   ]
  },
  {
   "cell_type": "code",
   "execution_count": 35,
   "id": "0b1eb811",
   "metadata": {},
   "outputs": [
    {
     "name": "stdout",
     "output_type": "stream",
     "text": [
      "curent speed: 0\n"
     ]
    }
   ],
   "source": [
    "# (2/2) to prevent this, we need to make the speed property, private\n",
    "    # private property --> property that can only be accessed from within the class, in one of the methods.\n",
    "        # BUT never outside the class after the object is created\n",
    "        \n",
    "    # if you want a property to be private, you need to give it two underscores at the beginning (ex. .__speed)\n",
    "    \n",
    "my_car.speed = - 200\n",
    "my_car.show_speed()"
   ]
  },
  {
   "cell_type": "code",
   "execution_count": 36,
   "id": "976e8017",
   "metadata": {},
   "outputs": [],
   "source": [
    "# 4 principles behind object-oriented programming in most modern programming\n",
    "    # ENCAPSULATION\n",
    "    # ABSTRACTION\n",
    "    # inheritance\n",
    "    # polymorphism"
   ]
  },
  {
   "cell_type": "code",
   "execution_count": 39,
   "id": "cd3721b8",
   "metadata": {},
   "outputs": [],
   "source": [
    "# encapsulation (OVERALL --> making specific things public to users, others private)\n",
    "    # usage of PRIVATE PROPERTIES \n",
    "    # objects should keep their state private and only expose a set of public functions world\n",
    "    # EXAMPLE\n",
    "        # making the speed property private (__.speed)\n",
    "        # exposing the speed_up & slow_down methods in the class"
   ]
  },
  {
   "cell_type": "code",
   "execution_count": 38,
   "id": "2edf772e",
   "metadata": {},
   "outputs": [],
   "source": [
    "# abstraction (OVERALL --> only needing to know the 'high level' operations)\n",
    "    # objects should KEEP THE DETAILS of how they work to themselves, and only expose high level operations to the outside\n",
    "    # EXAMPLE, smartphone\n",
    "        # there are a million lines of code to ensure your phone works properly, but you don't need to know that, the details\n",
    "        # of how your phone works are hidden from you\n",
    "            # you only get access to high level operations --> texting, calling\n",
    "            \n",
    "    # EXAMPLE, Car class\n",
    "        # theoretically, if someone uses your Car class, they don't need to know there is a speed property inside\n",
    "        # they can create a car object without providing any speed, and then they can only use the speed up / slow down methods\n",
    "        # the details of what happens inside the object when you call these methods are ABSTRACTED from you"
   ]
  },
  {
   "cell_type": "code",
   "execution_count": null,
   "id": "f6cd2167",
   "metadata": {},
   "outputs": [],
   "source": []
  }
 ],
 "metadata": {
  "kernelspec": {
   "display_name": "Python 3 (ipykernel)",
   "language": "python",
   "name": "python3"
  },
  "language_info": {
   "codemirror_mode": {
    "name": "ipython",
    "version": 3
   },
   "file_extension": ".py",
   "mimetype": "text/x-python",
   "name": "python",
   "nbconvert_exporter": "python",
   "pygments_lexer": "ipython3",
   "version": "3.10.9"
  }
 },
 "nbformat": 4,
 "nbformat_minor": 5
}
