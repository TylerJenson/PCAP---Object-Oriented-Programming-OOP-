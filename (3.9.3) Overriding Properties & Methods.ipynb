{
 "cells": [
  {
   "cell_type": "code",
   "execution_count": 1,
   "id": "a99badb2",
   "metadata": {},
   "outputs": [],
   "source": [
    "class Animal():\n",
    "    def __init__(self):\n",
    "        self.species = 'general'\n",
    "        \n",
    "    def produce_sound(self):\n",
    "        print('general animal sound')\n",
    "        \n",
    "class Dog(Animal):\n",
    "    pass"
   ]
  },
  {
   "cell_type": "code",
   "execution_count": 2,
   "id": "5d44246b",
   "metadata": {},
   "outputs": [
    {
     "name": "stdout",
     "output_type": "stream",
     "text": [
      "general\n",
      "general animal sound\n"
     ]
    }
   ],
   "source": [
    "my_pet = Dog()\n",
    "print(my_pet.species)\n",
    "my_pet.produce_sound()"
   ]
  },
  {
   "cell_type": "code",
   "execution_count": 6,
   "id": "fe05ba26",
   "metadata": {},
   "outputs": [],
   "source": [
    "class Animal():\n",
    "    def __init__(self):\n",
    "        self.species = 'general'\n",
    "        \n",
    "    def produce_sound(self):\n",
    "        print('general animal sound')\n",
    "        \n",
    "class Dog(Animal):\n",
    "    def __init__(self):                               #NEW --> similar constructor compared to Animal class\n",
    "        self.species = 'Canis familiaris'\n",
    "        \n",
    "    def produce_sound(self):                          #NEW --> similar method compared to Animal class\n",
    "        print('woof, woof!')"
   ]
  },
  {
   "cell_type": "code",
   "execution_count": 4,
   "id": "93d4ed6b",
   "metadata": {},
   "outputs": [
    {
     "name": "stdout",
     "output_type": "stream",
     "text": [
      "Canis familiaris\n",
      "woof, woof!\n"
     ]
    }
   ],
   "source": [
    "my_pet = Dog()\n",
    "print(my_pet.species)\n",
    "my_pet.produce_sound()\n",
    "\n",
    "# explanation --> as you see, the output is different, it uses the information in the Dog subclass rather than the Animal superclass\n",
    "\n",
    "    # this is known as 'method overriding'\n",
    "        # ability of any object-oriented programming language that allows a subclass class to provide a specific \n",
    "        # implementation of a method that is already provided by one of its super-classes or parent classes\n",
    "        \n",
    "        # When a method in a subclass has the same name, same parameters and same return type(or sub-type) \n",
    "            # as a method in its super-class, then the method in the subclass is said to override the method in the super-class\n"
   ]
  },
  {
   "cell_type": "code",
   "execution_count": 5,
   "id": "530b8681",
   "metadata": {},
   "outputs": [],
   "source": [
    "# method overriding\n",
    "    # helps achieve 1 of the 4 core concepts of OOP --> polymorphism\n",
    "    \n",
    "    # recap, 4 core concepts --> encapsulation, abstraction, polymorphism, inheritance"
   ]
  },
  {
   "cell_type": "code",
   "execution_count": 7,
   "id": "ba57d600",
   "metadata": {},
   "outputs": [],
   "source": [
    "# polymorphism\n",
    "    # lets us define methods in the child class that have the same name as the methods in the parent class\n",
    "    \n",
    "    # usually when we talk about polymorphism, we talk about 'method overriding'"
   ]
  },
  {
   "cell_type": "code",
   "execution_count": 8,
   "id": "7df66f4d",
   "metadata": {},
   "outputs": [],
   "source": [
    "# SAME CODE AS BEFORE\n",
    "\n",
    "class Animal():\n",
    "    def __init__(self):\n",
    "        self.species = 'general'\n",
    "        \n",
    "    def produce_sound(self):\n",
    "        print('general animal sound')\n",
    "        \n",
    "class Dog(Animal):\n",
    "    def __init__(self):                               #NEW --> similar constructor compared to Animal class\n",
    "        self.species = 'Canis familiaris'\n",
    "        \n",
    "    def produce_sound(self):                          #NEW --> similar method compared to Animal class\n",
    "        print('woof, woof!')"
   ]
  },
  {
   "cell_type": "code",
   "execution_count": 9,
   "id": "82f5004e",
   "metadata": {},
   "outputs": [
    {
     "name": "stdout",
     "output_type": "stream",
     "text": [
      "general animal sound\n",
      "woof, woof!\n"
     ]
    }
   ],
   "source": [
    "# example of 'Polymorphism'\n",
    "\n",
    "my_first_pet = Animal()\n",
    "my_second_pet = Dog()\n",
    "\n",
    "my_first_pet.produce_sound()\n",
    "my_second_pet.produce_sound()\n",
    "\n",
    "# explanation --> as you see though the methods have the same name, the objects were created in separate classes, where\n",
    "    # each uses their specific method in their class"
   ]
  },
  {
   "cell_type": "code",
   "execution_count": 10,
   "id": "9c5e2315",
   "metadata": {},
   "outputs": [],
   "source": [
    "class Animal():\n",
    "    def __init__(self):\n",
    "        self.species = 'general'\n",
    "        \n",
    "    def produce_sound(self):\n",
    "        print('general animal sound')\n",
    "        \n",
    "    def present(self):                                    #NEW -- added this method\n",
    "        print(\"I can produce the following sound\")\n",
    "        self.produce_sound()\n",
    "        \n",
    "        \n",
    "class Dog(Animal):\n",
    "    def __init__(self):                               \n",
    "        self.species = 'Canis familiaris'\n",
    "        \n",
    "    def produce_sound(self):                         \n",
    "        print('woof, woof!')"
   ]
  },
  {
   "cell_type": "code",
   "execution_count": 12,
   "id": "5f7a6058",
   "metadata": {},
   "outputs": [
    {
     "name": "stdout",
     "output_type": "stream",
     "text": [
      "I can produce the following sound\n",
      "general animal sound\n",
      "\n",
      "I can produce the following sound\n",
      "woof, woof!\n"
     ]
    }
   ],
   "source": [
    "# example of 'Polymorphism' --> when methods use other methods\n",
    "\n",
    "my_first_pet = Animal()\n",
    "my_second_pet = Dog()\n",
    "\n",
    "my_first_pet.present()\n",
    "print()                         # line break\n",
    "my_second_pet.present()\n",
    "\n",
    "# explanation --> we created a new method in the Animal class,'present', which invokes another method - 'produce_sound'\n",
    "    # my_first_pet --> nothing surprising here\n",
    "    # my_second_pet --> it inherits the 'present' method, but when the method invokes the 'produce_sound' method\n",
    "        # it uses its own version of the method\n",
    "            # reason --> we used the 'self' reference, which always points to the current object and both objects were\n",
    "                # created using different classes"
   ]
  },
  {
   "cell_type": "code",
   "execution_count": null,
   "id": "fe2bf814",
   "metadata": {},
   "outputs": [],
   "source": []
  }
 ],
 "metadata": {
  "kernelspec": {
   "display_name": "Python 3 (ipykernel)",
   "language": "python",
   "name": "python3"
  },
  "language_info": {
   "codemirror_mode": {
    "name": "ipython",
    "version": 3
   },
   "file_extension": ".py",
   "mimetype": "text/x-python",
   "name": "python",
   "nbconvert_exporter": "python",
   "pygments_lexer": "ipython3",
   "version": "3.10.9"
  }
 },
 "nbformat": 4,
 "nbformat_minor": 5
}
