{
 "cells": [
  {
   "cell_type": "code",
   "execution_count": 1,
   "id": "aaa2b79b",
   "metadata": {},
   "outputs": [],
   "source": [
    "# 1 -- What are features of a class in Python?\n",
    "\n",
    "# name, properties, methods"
   ]
  },
  {
   "cell_type": "code",
   "execution_count": 2,
   "id": "93e5896f",
   "metadata": {},
   "outputs": [],
   "source": [
    "# 2 -- how do you check if an object has a given property?\n",
    "\n",
    "# hasattr()"
   ]
  },
  {
   "cell_type": "code",
   "execution_count": 3,
   "id": "2a601092",
   "metadata": {},
   "outputs": [],
   "source": [
    "# 3 -- what is the usage of the super() function?\n",
    "\n",
    "# it can be used to access the attributes/methods of a super class"
   ]
  },
  {
   "cell_type": "code",
   "execution_count": 5,
   "id": "f26283cb",
   "metadata": {},
   "outputs": [
    {
     "name": "stdout",
     "output_type": "stream",
     "text": [
      "canisbrownredwhite\n"
     ]
    }
   ],
   "source": [
    "# 4 -- what will be the output after running the following code?\n",
    "\n",
    "\n",
    "class Dog:\n",
    "  latin = 'canis'\n",
    "  def __init__(self, colour = 'brown'):\n",
    "    self.colour = colour\n",
    "    Dog.latin += colour\n",
    " \n",
    "first = Dog()\n",
    "second = Dog('red')\n",
    "third = Dog('white')\n",
    "print(second.latin)\n",
    "\n",
    "# explanation --> within the constructor, when each object is created, it adds on / modifies the class variable 'latin'"
   ]
  },
  {
   "cell_type": "code",
   "execution_count": 6,
   "id": "5a38b251",
   "metadata": {},
   "outputs": [
    {
     "name": "stdout",
     "output_type": "stream",
     "text": [
      "x\n"
     ]
    }
   ],
   "source": [
    "# 5 -- What will be the output after running the following code?\n",
    "\n",
    "class X:\n",
    "  def __str__(self):\n",
    "    return 'x'\n",
    " \n",
    "class Y:\n",
    "  def __str__(self):\n",
    "    return 'y'\n",
    " \n",
    "class Z(X, Y):\n",
    "  pass\n",
    " \n",
    "print(Z())"
   ]
  },
  {
   "cell_type": "code",
   "execution_count": 7,
   "id": "dfc7ba36",
   "metadata": {},
   "outputs": [
    {
     "ename": "TypeError",
     "evalue": "X.__init__() takes 1 positional argument but 2 were given",
     "output_type": "error",
     "traceback": [
      "\u001b[1;31m---------------------------------------------------------------------------\u001b[0m",
      "\u001b[1;31mTypeError\u001b[0m                                 Traceback (most recent call last)",
      "Cell \u001b[1;32mIn[7], line 7\u001b[0m\n\u001b[0;32m      4\u001b[0m   \u001b[38;5;28;01mdef\u001b[39;00m \u001b[38;5;21m__init__\u001b[39m(\u001b[38;5;28mself\u001b[39m):\n\u001b[0;32m      5\u001b[0m     \u001b[38;5;28;01mpass\u001b[39;00m\n\u001b[1;32m----> 7\u001b[0m x \u001b[38;5;241m=\u001b[39m \u001b[43mX\u001b[49m\u001b[43m(\u001b[49m\u001b[38;5;124;43m'\u001b[39;49m\u001b[38;5;124;43mmyobject\u001b[39;49m\u001b[38;5;124;43m'\u001b[39;49m\u001b[43m)\u001b[49m\n\u001b[0;32m      8\u001b[0m \u001b[38;5;28mprint\u001b[39m(x\u001b[38;5;241m.\u001b[39mself)\n",
      "\u001b[1;31mTypeError\u001b[0m: X.__init__() takes 1 positional argument but 2 were given"
     ]
    }
   ],
   "source": [
    "# 6 -- What will be the output after running the following code?\n",
    "\n",
    "class X:\n",
    "  def __init__(self):\n",
    "    pass\n",
    " \n",
    "x = X('myobject')\n",
    "print(x.self)"
   ]
  },
  {
   "cell_type": "code",
   "execution_count": 8,
   "id": "2bb7c152",
   "metadata": {},
   "outputs": [
    {
     "name": "stdout",
     "output_type": "stream",
     "text": [
      "10\n"
     ]
    }
   ],
   "source": [
    "# 7 -- What will be the output after running the following code?\n",
    "\n",
    "class One:\n",
    "  v = 5\n",
    " \n",
    "class Two(One):\n",
    "  v = 10\n",
    " \n",
    "class Three(Two):\n",
    "  pass\n",
    " \n",
    "print(Three().v)"
   ]
  },
  {
   "cell_type": "code",
   "execution_count": 9,
   "id": "c71771c8",
   "metadata": {},
   "outputs": [
    {
     "ename": "AttributeError",
     "evalue": "'Vehicle' object has no attribute '__speed'",
     "output_type": "error",
     "traceback": [
      "\u001b[1;31m---------------------------------------------------------------------------\u001b[0m",
      "\u001b[1;31mAttributeError\u001b[0m                            Traceback (most recent call last)",
      "Cell \u001b[1;32mIn[9], line 8\u001b[0m\n\u001b[0;32m      5\u001b[0m     \u001b[38;5;28mself\u001b[39m\u001b[38;5;241m.\u001b[39m__speed \u001b[38;5;241m=\u001b[39m speed \u001b[38;5;241m+\u001b[39m \u001b[38;5;241m5\u001b[39m\n\u001b[0;32m      7\u001b[0m car \u001b[38;5;241m=\u001b[39m Vehicle(\u001b[38;5;241m10\u001b[39m)\n\u001b[1;32m----> 8\u001b[0m \u001b[38;5;28mprint\u001b[39m(\u001b[43mcar\u001b[49m\u001b[38;5;241;43m.\u001b[39;49m\u001b[43m__speed\u001b[49m)\n",
      "\u001b[1;31mAttributeError\u001b[0m: 'Vehicle' object has no attribute '__speed'"
     ]
    }
   ],
   "source": [
    "# 8 -- What will be the output after running the following code?\n",
    "\n",
    "class Vehicle:\n",
    "  def __init__(self, speed):\n",
    "    self.__speed = speed + 5\n",
    " \n",
    "car = Vehicle(10)\n",
    "print(car.__speed)\n",
    "\n",
    "# will raise an exception -- since the property 'speed' is private (__speed) it becomes name mangled"
   ]
  },
  {
   "cell_type": "code",
   "execution_count": 10,
   "id": "c3602916",
   "metadata": {},
   "outputs": [
    {
     "name": "stdout",
     "output_type": "stream",
     "text": [
      "15\n"
     ]
    }
   ],
   "source": [
    "# 9 -- What will be the output after running the following code?\n",
    "\n",
    "class Vehicle:\n",
    "  def __init__(self, speed):\n",
    "    self.speed = speed + 5\n",
    " \n",
    "car = Vehicle(10)\n",
    "print(car.speed)"
   ]
  },
  {
   "cell_type": "code",
   "execution_count": 11,
   "id": "5957ec4d",
   "metadata": {},
   "outputs": [
    {
     "name": "stdout",
     "output_type": "stream",
     "text": [
      "True\n"
     ]
    }
   ],
   "source": [
    "# 10 -- What will be the output after running the following code?\n",
    "\n",
    "\n",
    "class User:\n",
    "  nickname = 'Adam'\n",
    " \n",
    "print(hasattr(User, 'nickname'))"
   ]
  },
  {
   "cell_type": "code",
   "execution_count": 12,
   "id": "67671054",
   "metadata": {},
   "outputs": [
    {
     "name": "stdout",
     "output_type": "stream",
     "text": [
      "True\n"
     ]
    }
   ],
   "source": [
    "# 11 -- What will be the output after running the following code?\n",
    "\n",
    "\n",
    "class Device:\n",
    "  pass\n",
    " \n",
    "print(issubclass(Device, Device))"
   ]
  },
  {
   "cell_type": "code",
   "execution_count": 13,
   "id": "90fdf8ad",
   "metadata": {},
   "outputs": [],
   "source": [
    "# 12 -- Given the class definition below, which answer will correctly create an object of this class?\n",
    "\n",
    "class Sample:\n",
    "  def __init__(self):\n",
    "    pass\n",
    "\n",
    "mysamp = Sample()"
   ]
  },
  {
   "cell_type": "code",
   "execution_count": 15,
   "id": "0bb84866",
   "metadata": {},
   "outputs": [
    {
     "data": {
      "text/plain": [
       "'a'"
      ]
     },
     "execution_count": 15,
     "metadata": {},
     "output_type": "execute_result"
    }
   ],
   "source": [
    "# 13 -- Given the following definition, how can you access the property __prop outside the class definition?\n",
    "\n",
    "class Sample:\n",
    "  def __init__(self):\n",
    "    self.__prop = 'a'\n",
    "    \n",
    "mysamp = Sample()\n",
    "mysamp._Sample__prop # __prop becomes name mangled because it's private, result for access is --> _Class__prop"
   ]
  },
  {
   "cell_type": "code",
   "execution_count": 17,
   "id": "77b6c2fb",
   "metadata": {},
   "outputs": [
    {
     "name": "stdout",
     "output_type": "stream",
     "text": [
      "False\n"
     ]
    }
   ],
   "source": [
    "# 14 -- What will be the output of the following code?\n",
    "\n",
    "class Void:\n",
    "  pass\n",
    " \n",
    "first_num = 5\n",
    "second_num = 5\n",
    "first_obj = Void()\n",
    "second_obj = Void()\n",
    "print(first_num is second_num and first_obj is second_obj)\n",
    "\n",
    "# first_num is second_num --> True, but first_obj is second_obj is False (different objects created by the Void class)"
   ]
  },
  {
   "cell_type": "code",
   "execution_count": 18,
   "id": "9ec21219",
   "metadata": {},
   "outputs": [
    {
     "name": "stdout",
     "output_type": "stream",
     "text": [
      "labrador woof!\n"
     ]
    }
   ],
   "source": [
    "# 15 -- What will be the output of the following code?\n",
    "\n",
    "class Animal():\n",
    "    def produce_sound(self):\n",
    "        print('General animal sound')\n",
    " \n",
    "class Dog(Animal):\n",
    "    def produce_sound(self):\n",
    "        print('woof, woof!')\n",
    " \n",
    "class Labrador(Dog):\n",
    "    def produce_sound(self):\n",
    "        print('labrador woof!')\n",
    " \n",
    "my_pet = Labrador()\n",
    "my_pet.produce_sound()"
   ]
  },
  {
   "cell_type": "code",
   "execution_count": null,
   "id": "5dd92225",
   "metadata": {},
   "outputs": [],
   "source": []
  }
 ],
 "metadata": {
  "kernelspec": {
   "display_name": "Python 3 (ipykernel)",
   "language": "python",
   "name": "python3"
  },
  "language_info": {
   "codemirror_mode": {
    "name": "ipython",
    "version": 3
   },
   "file_extension": ".py",
   "mimetype": "text/x-python",
   "name": "python",
   "nbconvert_exporter": "python",
   "pygments_lexer": "ipython3",
   "version": "3.10.9"
  }
 },
 "nbformat": 4,
 "nbformat_minor": 5
}
