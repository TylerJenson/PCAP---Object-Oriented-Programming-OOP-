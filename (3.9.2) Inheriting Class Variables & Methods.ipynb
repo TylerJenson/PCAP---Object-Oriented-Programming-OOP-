{
 "cells": [
  {
   "cell_type": "code",
   "execution_count": 2,
   "id": "f8c32cae",
   "metadata": {},
   "outputs": [],
   "source": [
    "# Inheritance of Class Variables\n",
    "    # works the same way as instance variable being inherited using constructors"
   ]
  },
  {
   "cell_type": "code",
   "execution_count": 3,
   "id": "a8428cae",
   "metadata": {},
   "outputs": [],
   "source": [
    "class Vehicle:\n",
    "    class_message = \"this is a message from the Vehicle class\"   # class variable, for Vehicle class\n",
    "    def __init__(self, speed):\n",
    "        self.speed = speed\n",
    "\n",
    "class LandVehicle(Vehicle):\n",
    "    def __init__(self, speed, wheel_count):  \n",
    "        super().__init__(speed)        \n",
    "        self.wheel_count = wheel_count\n",
    "        print(Vehicle.class_message)        # added this print function in the LandVehicle constructor\n",
    "class Car(LandVehicle):\n",
    "    pass"
   ]
  },
  {
   "cell_type": "code",
   "execution_count": 5,
   "id": "9d1cb7d8",
   "metadata": {},
   "outputs": [
    {
     "name": "stdout",
     "output_type": "stream",
     "text": [
      "this is a message from the Vehicle class\n"
     ]
    }
   ],
   "source": [
    "# verify if the syntax works to inherit the class variable in Vehicle class\n",
    "\n",
    "my_car = Car(50, 4)\n",
    "\n",
    "# explanation --> creates the object based on the LandVehicle class constructor & accesses the class variable in the Vehicle\n",
    "    # class through the print function \n",
    "    \n",
    "# explanation continued \n",
    "    # there are 2 options to access a class variable (same as before) -- and much like accessing 'instance variables'\n",
    "        # Class.variablename\n",
    "        # super().variable name"
   ]
  },
  {
   "cell_type": "code",
   "execution_count": 6,
   "id": "b2f35ffa",
   "metadata": {},
   "outputs": [
    {
     "data": {
      "text/plain": [
       "'this is a message from the Vehicle class'"
      ]
     },
     "execution_count": 6,
     "metadata": {},
     "output_type": "execute_result"
    }
   ],
   "source": [
    "# another way to access the class variable\n",
    "\n",
    "my_car.class_message\n",
    "\n",
    "# explanation --> need to create the object first"
   ]
  },
  {
   "cell_type": "code",
   "execution_count": 7,
   "id": "a60b8a89",
   "metadata": {},
   "outputs": [],
   "source": [
    "# what about inheriting 'Methods' from super classes?\n",
    "    # exactly the same thing as above"
   ]
  },
  {
   "cell_type": "code",
   "execution_count": 9,
   "id": "3d6ed249",
   "metadata": {},
   "outputs": [],
   "source": [
    "class Vehicle:\n",
    "    class_message = \"this is a message from the Vehicle class\"   \n",
    "    def __init__(self, speed):\n",
    "        self.speed = speed\n",
    "\n",
    "class LandVehicle(Vehicle):\n",
    "    def __init__(self, speed, wheel_count):  \n",
    "        super().__init__(speed)        \n",
    "        self.wheel_count = wheel_count\n",
    "        print(Vehicle.class_message)  \n",
    "        \n",
    "    def speed_up(self):                    # added this method to LandVehicle class\n",
    "        self.speed +=5\n",
    "    \n",
    "class Car(LandVehicle):\n",
    "    def super_speed(self):\n",
    "        print('Super speed activated!')\n",
    "        super().speed_up()                  # invoking the 'speed_up' method in LandVehicle class, using super()\n",
    "        super().speed_up()\n",
    "        super().speed_up()"
   ]
  },
  {
   "cell_type": "code",
   "execution_count": 11,
   "id": "36b429be",
   "metadata": {},
   "outputs": [
    {
     "name": "stdout",
     "output_type": "stream",
     "text": [
      "this is a message from the Vehicle class\n",
      "{'speed': 10, 'wheel_count': 4}\n",
      "Super speed activated!\n",
      "{'speed': 25, 'wheel_count': 4}\n"
     ]
    }
   ],
   "source": [
    "# create new object, then run the speed_up method in the Land Vehicle class from the Car class\n",
    "\n",
    "my_fast_car = Car(10, 4)\n",
    "print(my_fast_car.__dict__)  # calling __dict__ the first time\n",
    "\n",
    "my_fast_car.super_speed()      # invoking the super_speed method in the Car class\n",
    "\n",
    "print(my_fast_car.__dict__)  # calling __dict__ the second time\n",
    "\n",
    "\n",
    "# explanation --> by invoking the super_speed method in the Car class, it inherites the 'speed_up' method in the LandVehicle class\n",
    "    # How? by using the super() keyword in the car class when invoked"
   ]
  },
  {
   "cell_type": "code",
   "execution_count": 12,
   "id": "6444e767",
   "metadata": {},
   "outputs": [
    {
     "name": "stdout",
     "output_type": "stream",
     "text": [
      "{'speed': 30, 'wheel_count': 4}\n"
     ]
    }
   ],
   "source": [
    "# invoking the speed up method in the LandVehicle class directly\n",
    "\n",
    "my_fast_car.speed_up()\n",
    "print(my_fast_car.__dict__)\n",
    "\n",
    "# you now see that the speed increased by 5, rather than by 15"
   ]
  },
  {
   "cell_type": "code",
   "execution_count": null,
   "id": "65499869",
   "metadata": {},
   "outputs": [],
   "source": []
  }
 ],
 "metadata": {
  "kernelspec": {
   "display_name": "Python 3 (ipykernel)",
   "language": "python",
   "name": "python3"
  },
  "language_info": {
   "codemirror_mode": {
    "name": "ipython",
    "version": 3
   },
   "file_extension": ".py",
   "mimetype": "text/x-python",
   "name": "python",
   "nbconvert_exporter": "python",
   "pygments_lexer": "ipython3",
   "version": "3.10.9"
  }
 },
 "nbformat": 4,
 "nbformat_minor": 5
}
