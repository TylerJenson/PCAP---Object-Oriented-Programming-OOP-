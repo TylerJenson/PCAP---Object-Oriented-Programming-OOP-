{
 "cells": [
  {
   "cell_type": "code",
   "execution_count": 1,
   "id": "05089401",
   "metadata": {},
   "outputs": [],
   "source": [
    "class Vehicle:\n",
    "    def __init__(self, speed):\n",
    "        self.speed = speed\n",
    "        \n",
    "class LandVehicle(Vehicle):\n",
    "    def __init__(self,speed, wheel_count):\n",
    "        super().__init__(speed)\n",
    "        self.wheel_count = wheel_count\n",
    "        \n",
    "class Car(LandVehicle):\n",
    "    pass"
   ]
  },
  {
   "cell_type": "code",
   "execution_count": 2,
   "id": "8b8c425d",
   "metadata": {},
   "outputs": [],
   "source": [
    "# isinstance()\n",
    "    # checks if the object (first argument) is a subclass of classinfo class (second argument)\n",
    "        # returns a boolean\n",
    "        # returns True if object was created from a specific class, or is a subclass\n",
    "    \n",
    "# create 3 objects\n",
    "\n",
    "my_vehicle = Vehicle(50)\n",
    "my_land_vehicle = LandVehicle(50, 4)\n",
    "my_car = Car(50, 4)"
   ]
  },
  {
   "cell_type": "code",
   "execution_count": 4,
   "id": "7dab3920",
   "metadata": {},
   "outputs": [
    {
     "name": "stdout",
     "output_type": "stream",
     "text": [
      "True\n",
      "True\n",
      "True\n"
     ]
    }
   ],
   "source": [
    "# use isinstance() method on new objects; where the 2nd argument is 'Vehicle'\n",
    "\n",
    "print(isinstance(my_vehicle, Vehicle))\n",
    "print(isinstance(my_land_vehicle, Vehicle))\n",
    "print(isinstance(my_car, Vehicle))"
   ]
  },
  {
   "cell_type": "code",
   "execution_count": 5,
   "id": "eb4f4fa0",
   "metadata": {},
   "outputs": [
    {
     "name": "stdout",
     "output_type": "stream",
     "text": [
      "False\n",
      "True\n",
      "True\n"
     ]
    }
   ],
   "source": [
    "# use isinstance() method on new objects; where the 2nd argument is 'LandVehicle'\n",
    "\n",
    "print(isinstance(my_vehicle, LandVehicle))\n",
    "print(isinstance(my_land_vehicle, LandVehicle))\n",
    "print(isinstance(my_car, LandVehicle))"
   ]
  },
  {
   "cell_type": "code",
   "execution_count": 6,
   "id": "a1ddd2c4",
   "metadata": {},
   "outputs": [
    {
     "name": "stdout",
     "output_type": "stream",
     "text": [
      "False\n",
      "False\n",
      "True\n"
     ]
    }
   ],
   "source": [
    "# use isinstance() method on new objects; where the 2nd argument is 'Car'\n",
    "\n",
    "print(isinstance(my_vehicle, Car))\n",
    "print(isinstance(my_land_vehicle, Car))\n",
    "print(isinstance(my_car, Car))"
   ]
  },
  {
   "cell_type": "code",
   "execution_count": 8,
   "id": "c5888af5",
   "metadata": {},
   "outputs": [],
   "source": [
    "# 'is' operator\n",
    "    # checks if 2 variables point to the same object\n",
    "    # returns a boolean\n",
    "    \n",
    "# object variables contain the address of an object in the memory, not the object itself\n",
    "\n",
    "my_vehicle = Vehicle(60)\n",
    "my_new_vehicle = my_vehicle"
   ]
  },
  {
   "cell_type": "code",
   "execution_count": 9,
   "id": "9e9be1a1",
   "metadata": {},
   "outputs": [
    {
     "name": "stdout",
     "output_type": "stream",
     "text": [
      "True\n"
     ]
    }
   ],
   "source": [
    "print(my_vehicle is my_new_vehicle)"
   ]
  },
  {
   "cell_type": "code",
   "execution_count": 11,
   "id": "7fa009c6",
   "metadata": {},
   "outputs": [
    {
     "name": "stdout",
     "output_type": "stream",
     "text": [
      "{'speed': 60} {'speed': 60}\n",
      "{'speed': 30} {'speed': 30}\n"
     ]
    }
   ],
   "source": [
    "# if both object variables point to the same object, and you change one of the variables, the changes are shown in the\n",
    "# other variable as well\n",
    "\n",
    "print(my_vehicle.__dict__, my_new_vehicle.__dict__)\n",
    "my_vehicle.speed = 30\n",
    "print(my_vehicle.__dict__, my_new_vehicle.__dict__)\n",
    "\n",
    "# as you see; this changes the speed of my_new_vehicle as well"
   ]
  },
  {
   "cell_type": "code",
   "execution_count": 15,
   "id": "6602c3d5",
   "metadata": {},
   "outputs": [],
   "source": [
    "# if you want different references; you need to create the variable directed to the class\n",
    "\n",
    "my_vehicle = Vehicle(60)\n",
    "my_new_vehicle = Vehicle(60)"
   ]
  },
  {
   "cell_type": "code",
   "execution_count": 16,
   "id": "ec8e81f9",
   "metadata": {},
   "outputs": [
    {
     "name": "stdout",
     "output_type": "stream",
     "text": [
      "{'speed': 60} {'speed': 60}\n",
      "{'speed': 30} {'speed': 60}\n"
     ]
    }
   ],
   "source": [
    "print(my_vehicle.__dict__, my_new_vehicle.__dict__)\n",
    "my_vehicle.speed = 30\n",
    "print(my_vehicle.__dict__, my_new_vehicle.__dict__)\n",
    "\n",
    "# output --> you now see that the speed was only applied to my_vehicle"
   ]
  },
  {
   "cell_type": "code",
   "execution_count": 17,
   "id": "2d1a523e",
   "metadata": {},
   "outputs": [
    {
     "name": "stdout",
     "output_type": "stream",
     "text": [
      "True\n"
     ]
    }
   ],
   "source": [
    "# now let's see how 'is' works outside of OOP with primitive data types..\n",
    "# Integers & 'is'\n",
    "\n",
    "first_num = 5\n",
    "second_num = 5\n",
    "print(first_num is second_num)"
   ]
  },
  {
   "cell_type": "code",
   "execution_count": 18,
   "id": "8606cbea",
   "metadata": {},
   "outputs": [
    {
     "name": "stdout",
     "output_type": "stream",
     "text": [
      "True\n"
     ]
    }
   ],
   "source": [
    "first_num = 5\n",
    "second_num = 2\n",
    "second_num += 3\n",
    "print(first_num is second_num)\n",
    "\n",
    "# as you see, integers don't equal at first, we add 3 to have them equal, and the 'is' operator equals True"
   ]
  },
  {
   "cell_type": "code",
   "execution_count": 19,
   "id": "028f5b4c",
   "metadata": {},
   "outputs": [
    {
     "name": "stdout",
     "output_type": "stream",
     "text": [
      "True\n"
     ]
    }
   ],
   "source": [
    "# Strings & 'is' operator\n",
    "\n",
    "first_string = 'hello'\n",
    "second_string = 'hello'\n",
    "print(first_string is second_string)\n",
    "\n",
    "# Python sees that we define two string variables with the same content, the 2nd variable actually points to the very same\n",
    "    # string as the first one\n",
    "# remember --> strings are immutable\n",
    "    # if you try to change an 'existing' string, Python will instead create a new one"
   ]
  },
  {
   "cell_type": "code",
   "execution_count": 20,
   "id": "24ebbd33",
   "metadata": {},
   "outputs": [
    {
     "name": "stdout",
     "output_type": "stream",
     "text": [
      "False\n"
     ]
    }
   ],
   "source": [
    "first_string = 'hello'\n",
    "second_string = 'hell'\n",
    "second_string += 'o'\n",
    "print(first_string is second_string)\n",
    "\n",
    "# output --> is 'False' because whenever we try to modify an existing string, python instead creates a new one, even though\n",
    "    # both variables contain identical strings; they are actually 2 separate objects in memory"
   ]
  },
  {
   "cell_type": "code",
   "execution_count": 22,
   "id": "ec2c0287",
   "metadata": {},
   "outputs": [
    {
     "name": "stdout",
     "output_type": "stream",
     "text": [
      "False\n",
      "True\n"
     ]
    }
   ],
   "source": [
    "# 'is' versus == \n",
    "print(first_string is second_string)\n",
    "print(first_string == second_string)\n",
    "\n",
    "# the 'is' operator returns False because the string objects are two different objects (due to the + of 'o' above)\n",
    "# the equality operator returns True because both variables contain the same string VALUE"
   ]
  },
  {
   "cell_type": "code",
   "execution_count": null,
   "id": "1948d742",
   "metadata": {},
   "outputs": [],
   "source": []
  }
 ],
 "metadata": {
  "kernelspec": {
   "display_name": "Python 3 (ipykernel)",
   "language": "python",
   "name": "python3"
  },
  "language_info": {
   "codemirror_mode": {
    "name": "ipython",
    "version": 3
   },
   "file_extension": ".py",
   "mimetype": "text/x-python",
   "name": "python",
   "nbconvert_exporter": "python",
   "pygments_lexer": "ipython3",
   "version": "3.10.9"
  }
 },
 "nbformat": 4,
 "nbformat_minor": 5
}
