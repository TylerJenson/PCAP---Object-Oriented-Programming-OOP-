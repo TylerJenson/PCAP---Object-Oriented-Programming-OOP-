{
 "cells": [
  {
   "cell_type": "code",
   "execution_count": 1,
   "id": "8a8c2851",
   "metadata": {},
   "outputs": [],
   "source": [
    "# Multiple Inheritance\n",
    "    # when a class has more than one super class\n",
    "    # inherits from more than one class"
   ]
  },
  {
   "cell_type": "code",
   "execution_count": 3,
   "id": "e4bc19fc",
   "metadata": {},
   "outputs": [],
   "source": [
    "# here we have 2 super classes; Vehicle & Flyable; Airplane inherits from both super classes\n",
    "\n",
    "class Vehicle():\n",
    "    def go(self):\n",
    "        print('Going!')\n",
    "\n",
    "class Flyable():\n",
    "    def fly(self):\n",
    "        print('Flying!')\n",
    "\n",
    "class Airplane(Vehicle, Flyable):\n",
    "    pass"
   ]
  },
  {
   "cell_type": "code",
   "execution_count": 5,
   "id": "8961c511",
   "metadata": {},
   "outputs": [
    {
     "name": "stdout",
     "output_type": "stream",
     "text": [
      "Going!\n",
      "Flying!\n"
     ]
    }
   ],
   "source": [
    "my_plane = Airplane()\n",
    "my_plane.go()\n",
    "my_plane.fly()\n",
    "\n",
    "# output --> Airplane class inherited both methods from the super classes; and that is the basis of multiple inheritance"
   ]
  },
  {
   "cell_type": "code",
   "execution_count": 6,
   "id": "9e4c84e2",
   "metadata": {},
   "outputs": [],
   "source": [
    "# situation -- what if both super classes have the same method name (ex. introduce)\n",
    "\n",
    "class Vehicle():\n",
    "    def go(self):\n",
    "        print('Going!')\n",
    "        \n",
    "    def introduce(self):\n",
    "        print('I am a Vehicle')\n",
    "\n",
    "class Flyable():\n",
    "    def fly(self):\n",
    "        print('Flying!')\n",
    "        \n",
    "    def introduce(self):\n",
    "        print('I am a Flyable')\n",
    "\n",
    "class Airplane(Vehicle, Flyable):\n",
    "    pass"
   ]
  },
  {
   "cell_type": "code",
   "execution_count": 7,
   "id": "371b69c1",
   "metadata": {},
   "outputs": [
    {
     "name": "stdout",
     "output_type": "stream",
     "text": [
      "I am a Vehicle\n"
     ]
    }
   ],
   "source": [
    "my_plane = Airplane()\n",
    "my_plane.introduce()\n",
    "\n",
    "# why was the vehicle 'introduce' method invoked rather than the one in flyable?\n",
    "    # Method Resolution Order (MRO)\n",
    "        # the order in which a method is searched for in a classes hierarchy\n",
    "            # each programming language has a slightly different MRO\n",
    "    # Python's MRO\n",
    "        # look inside the object, if not found -- look in the superclasses from left to right, if not found --> error\n",
    "        # since there was multiple methods with the same name -- Python scanned for 'introduce' left to right\n",
    "            # if you look at the syntax of Airplane (class Airplane(Vehicle, Flyable)), Vehicle is shown first\n",
    "                # thus, that's why it printed the method in the Vehicle class\n",
    "                # if you switched the order around, it would use the method from the Flying class\n"
   ]
  },
  {
   "cell_type": "code",
   "execution_count": 8,
   "id": "637d3f86",
   "metadata": {},
   "outputs": [],
   "source": [
    "# situation --> similar to before, but adding the 'introduce' method within the Airplane class\n",
    "\n",
    "class Vehicle():\n",
    "    def go(self):\n",
    "        print('Going!')\n",
    "        \n",
    "    def introduce(self):\n",
    "        print('I am a Vehicle')\n",
    "\n",
    "class Flyable():\n",
    "    def fly(self):\n",
    "        print('Flying!')\n",
    "        \n",
    "    def introduce(self):\n",
    "        print('I am a Flyable')\n",
    "\n",
    "class Airplane(Vehicle, Flyable):\n",
    "    def introduce(self):\n",
    "        print('I am an Airplane')"
   ]
  },
  {
   "cell_type": "code",
   "execution_count": 9,
   "id": "7b934fd1",
   "metadata": {},
   "outputs": [
    {
     "name": "stdout",
     "output_type": "stream",
     "text": [
      "I am an Airplane\n"
     ]
    }
   ],
   "source": [
    "my_plane = Airplane()\n",
    "my_plane.introduce()\n",
    "\n",
    "# my_plane object uses the method from the Airplane class\n",
    "# reason --> Method Resolution Order (MRO)\n",
    "    # look inside the object, if not found -- look in the superclasses from left to right, if not found --> error"
   ]
  },
  {
   "cell_type": "code",
   "execution_count": 10,
   "id": "c8c16d1e",
   "metadata": {},
   "outputs": [],
   "source": [
    "# The general rule\n",
    "    # is to avoid using multiple inheritance at all\n",
    "    # in fact many programming languages do not allow multiple inheritance at all\n",
    "    \n",
    "# single inheritance is always simpler and easier to maintain\n",
    "# rule of thumb --> prefer single inheritance or no inheritance at all"
   ]
  },
  {
   "cell_type": "code",
   "execution_count": null,
   "id": "84d28d2f",
   "metadata": {},
   "outputs": [],
   "source": []
  }
 ],
 "metadata": {
  "kernelspec": {
   "display_name": "Python 3 (ipykernel)",
   "language": "python",
   "name": "python3"
  },
  "language_info": {
   "codemirror_mode": {
    "name": "ipython",
    "version": 3
   },
   "file_extension": ".py",
   "mimetype": "text/x-python",
   "name": "python",
   "nbconvert_exporter": "python",
   "pygments_lexer": "ipython3",
   "version": "3.10.9"
  }
 },
 "nbformat": 4,
 "nbformat_minor": 5
}
