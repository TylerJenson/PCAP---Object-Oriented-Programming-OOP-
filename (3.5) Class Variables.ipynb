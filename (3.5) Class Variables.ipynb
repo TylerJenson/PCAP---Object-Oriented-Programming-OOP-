{
 "cells": [
  {
   "cell_type": "code",
   "execution_count": 2,
   "id": "2f1874a6",
   "metadata": {},
   "outputs": [],
   "source": [
    "# class variable\n",
    "    # exists in one copy, stored in the class itself\n",
    "    # but, outside any object, a class variable exists, even if you don't create any object of that class"
   ]
  },
  {
   "cell_type": "code",
   "execution_count": null,
   "id": "e7ab424d",
   "metadata": {},
   "outputs": [],
   "source": [
    "# counter variable, Dog class\n",
    "    # this is a new variable of the class, purpose --> how many objects there are in the class\n",
    "    # notice the difference in syntax of the 'counter' variable, and the variables within the constructer using self (name, age)\n",
    "    # this makes the 'counter' variable a CLASS variable (not an instance variable)\n",
    "    \n",
    "    # if you want to reference a variable you need to use the class name, . (dot), variable name\n",
    "        # example --> Dog.counter\n",
    "        \n",
    "    # you will notice that all print statements produce the same output --> 3\n",
    "        # --> there's always exactly one copy of a class variable that is shared across all objects\n",
    "    "
   ]
  },
  {
   "cell_type": "code",
   "execution_count": 5,
   "id": "825b7164",
   "metadata": {},
   "outputs": [
    {
     "name": "stdout",
     "output_type": "stream",
     "text": [
      "3\n",
      "3\n",
      "3\n"
     ]
    }
   ],
   "source": [
    "class Dog():\n",
    "    counter = 0\n",
    "    def __init__(self, name, age):\n",
    "        self.__name = name\n",
    "        self.age = age\n",
    "        Dog.counter += 1\n",
    "        \n",
    "my_dog = Dog('Teddy', 2)\n",
    "her_dog = Dog('Foxy', 5)\n",
    "his_dog = Dog('Luna', 1)\n",
    "\n",
    "print(my_dog.counter)\n",
    "print(her_dog.counter)\n",
    "print(his_dog.counter)"
   ]
  },
  {
   "cell_type": "code",
   "execution_count": 6,
   "id": "369c47be",
   "metadata": {},
   "outputs": [
    {
     "data": {
      "text/plain": [
       "{'_Dog__name': 'Teddy', 'age': 2}"
      ]
     },
     "execution_count": 6,
     "metadata": {},
     "output_type": "execute_result"
    }
   ],
   "source": [
    "# use __dict__ to see the variables of an object\n",
    "\n",
    "# notice that there is no 'counter' variable\n",
    "\n",
    "# --> __dict__ only shows instance variables, ignores class variables\n",
    "\n",
    "my_dog.__dict__"
   ]
  },
  {
   "cell_type": "code",
   "execution_count": 7,
   "id": "bcf7092f",
   "metadata": {},
   "outputs": [
    {
     "name": "stdout",
     "output_type": "stream",
     "text": [
      "3\n",
      "3\n"
     ]
    }
   ],
   "source": [
    "# how do you access a 'class' variable?\n",
    "\n",
    "print(my_dog.counter)\n",
    "\n",
    "# what if you don't have an object created or one on hand?\n",
    "\n",
    "print(Dog.counter)"
   ]
  },
  {
   "cell_type": "code",
   "execution_count": 8,
   "id": "41da2933",
   "metadata": {},
   "outputs": [],
   "source": [
    "# making class variables private\n",
    "    # much like instance variables --> results will be 'name mangled', but still accessible outside the class definition\n",
    "    \n",
    "# making 'counter' variable private with __ (double underscore) at the beginning\n",
    "    \n",
    "class Dog():\n",
    "    __counter = 0\n",
    "    def __init__(self, name, age):\n",
    "        self.__name = name\n",
    "        self.age = age\n",
    "        Dog.__counter += 1"
   ]
  },
  {
   "cell_type": "code",
   "execution_count": 9,
   "id": "bd5a9840",
   "metadata": {},
   "outputs": [
    {
     "name": "stdout",
     "output_type": "stream",
     "text": [
      "0\n"
     ]
    }
   ],
   "source": [
    "# print a statement with the 'name mangling' of 'counter' after making it private\n",
    "\n",
    "print(Dog._Dog__counter)"
   ]
  },
  {
   "cell_type": "code",
   "execution_count": 10,
   "id": "d20f3703",
   "metadata": {},
   "outputs": [
    {
     "name": "stdout",
     "output_type": "stream",
     "text": [
      "{'__module__': '__main__', '_Dog__counter': 0, '__init__': <function Dog.__init__ at 0x00000266094A9240>, '__dict__': <attribute '__dict__' of 'Dog' objects>, '__weakref__': <attribute '__weakref__' of 'Dog' objects>, '__doc__': None}\n"
     ]
    }
   ],
   "source": [
    "# use  __dict__ to see the class variables\n",
    "    # you will see a lot of content that is new to you, but you should see the _Dog__counter variable\n",
    "\n",
    "print(Dog.__dict__)"
   ]
  },
  {
   "cell_type": "code",
   "execution_count": 11,
   "id": "a16b5157",
   "metadata": {},
   "outputs": [],
   "source": [
    "# (1/2) hasattr()\n",
    "    # --> returns True if the specified object has the specified attribute, otherwise False . \n",
    "    # Syntax. hasattr(object, attribute)."
   ]
  },
  {
   "cell_type": "code",
   "execution_count": 16,
   "id": "07eccd56",
   "metadata": {},
   "outputs": [
    {
     "name": "stdout",
     "output_type": "stream",
     "text": [
      "My dog's name is Baxter\n",
      "there is a counter\n"
     ]
    }
   ],
   "source": [
    "# (2/2) hasattr()\n",
    "\n",
    "class Dog():\n",
    "    counter = 0 # made this public\n",
    "    def __init__(self, name, age):\n",
    "        self.name = name    # we switch the instance variable to public (got rid of double underscores)\n",
    "            # when ran when this variable was private, we got the 'else' statement\n",
    "        self.age = age\n",
    "        Dog.counter += 1\n",
    "        \n",
    "dog = Dog('Baxter', 1)\n",
    "\n",
    "if hasattr(dog, 'name'):\n",
    "    print('My dog\\'s name is', dog.name)\n",
    "    \n",
    "else:\n",
    "    print('my pup has no name')\n",
    "    \n",
    "    \n",
    "# we can also check if the class has a 'class variable'\n",
    "\n",
    "if hasattr(Dog, 'counter'):\n",
    "    print('there is a counter')\n",
    "    \n",
    "else:\n",
    "    print('there is no counter')"
   ]
  },
  {
   "cell_type": "code",
   "execution_count": 17,
   "id": "715e8eed",
   "metadata": {},
   "outputs": [
    {
     "name": "stdout",
     "output_type": "stream",
     "text": [
      "Dog\n"
     ]
    }
   ],
   "source": [
    "# __name__\n",
    "    # similar to __dict__\n",
    "    # returns the name of the class\n",
    "    # can only be used with a class name, NOT an object name\n",
    "    \n",
    "print(Dog.__name__)"
   ]
  },
  {
   "cell_type": "code",
   "execution_count": 18,
   "id": "8f0ab58c",
   "metadata": {},
   "outputs": [
    {
     "data": {
      "text/plain": [
       "'Dog'"
      ]
     },
     "execution_count": 18,
     "metadata": {},
     "output_type": "execute_result"
    }
   ],
   "source": [
    "# type() & __name__ functions\n",
    "    # output --> string\n",
    "\n",
    "dog = Dog('Baxter', 1)\n",
    "\n",
    "type(dog).__name__"
   ]
  },
  {
   "cell_type": "code",
   "execution_count": 19,
   "id": "bb105881",
   "metadata": {},
   "outputs": [
    {
     "name": "stdout",
     "output_type": "stream",
     "text": [
      "__main__\n"
     ]
    }
   ],
   "source": [
    "# __module__\n",
    "    # --> returns the module, that contains the definition of the class (ex. class Dog():)\n",
    "    # can use it with both 'objects' & 'classes', result will be the same\n",
    "    # if the class is defined in the same file when doing __module__\n",
    "        # output -- > __main__\n",
    "    \n",
    "print(Dog.__module__)"
   ]
  },
  {
   "cell_type": "code",
   "execution_count": null,
   "id": "48e9007b",
   "metadata": {},
   "outputs": [],
   "source": []
  }
 ],
 "metadata": {
  "kernelspec": {
   "display_name": "Python 3 (ipykernel)",
   "language": "python",
   "name": "python3"
  },
  "language_info": {
   "codemirror_mode": {
    "name": "ipython",
    "version": 3
   },
   "file_extension": ".py",
   "mimetype": "text/x-python",
   "name": "python",
   "nbconvert_exporter": "python",
   "pygments_lexer": "ipython3",
   "version": "3.10.9"
  }
 },
 "nbformat": 4,
 "nbformat_minor": 5
}
