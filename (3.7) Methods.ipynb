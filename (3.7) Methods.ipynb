{
 "cells": [
  {
   "cell_type": "code",
   "execution_count": 4,
   "id": "88e5039e",
   "metadata": {},
   "outputs": [],
   "source": [
    "# methods\n",
    "    # are functions inside a class\n",
    "    # each method must have at least 1 parameter, this parameter can have any name, but should be named --> self\n",
    "        # self parameter identifies the object when the method is invoked\n",
    "    # when you invoke a method outside the class, you should never provide any argument for the self parameter\n",
    "    # if you need some other parameters in your method, you need to place them after the self parameter in the function def.\n",
    "        # when you invoke such methods, you still need to skip the first self parameter (never ever provide any argument)\n",
    "    # the self parameter in the method definition has a very specific purpose\n",
    "       # --> it allows you to access the properties and other methods of the same object\n",
    "    # one special method in Python's OOP is a 'constructor'\n",
    "        # __init__\n",
    "        # the constructor is activated automatically for you whenever you create a new object / instance\n",
    "        # you cannot use a return statement in a constructor\n",
    "            # constructors are designed to return your objects, and nothing else. Python will do that automatically"
   ]
  },
  {
   "cell_type": "code",
   "execution_count": null,
   "id": "8f63e510",
   "metadata": {},
   "outputs": [],
   "source": [
    "# methods, continued\n",
    "    # can be private, same way properties can\n",
    "        # --> adding a double underscore in front of the methods name\n",
    "            # --> making it private results in 'name mangling'\n",
    "                # you can still access the method outside the class using the mangled name (_Class__method)\n",
    "                \n",
    "    # __dict__\n",
    "        # when used with objects --> you won't see any methods in the output\n",
    "        # when used with classes --> you will see the methods in the output\n",
    "            # example; print(Doctor.__dict__)"
   ]
  },
  {
   "cell_type": "code",
   "execution_count": 7,
   "id": "65442fa3",
   "metadata": {
    "scrolled": true
   },
   "outputs": [
    {
     "name": "stdout",
     "output_type": "stream",
     "text": [
      "Hi, I am Tyler\n",
      "we have different... names....?\n",
      "{'first_name': 'Tyler', 'last_name': 'Jenson'}\n",
      "{'__module__': '__main__', '__init__': <function Doctor.__init__ at 0x000001FD20B1CF70>, '_Doctor__format_names': <function Doctor.__format_names at 0x000001FD20B1D000>, 'introduce': <function Doctor.introduce at 0x000001FD20B1D090>, 'compare_name': <function Doctor.compare_name at 0x000001FD20B1D120>, 'get_first_last_name_together': <function Doctor.get_first_last_name_together at 0x000001FD20B1D1B0>, '__str__': <function Doctor.__str__ at 0x000001FD20B1D240>, '__dict__': <attribute '__dict__' of 'Doctor' objects>, '__weakref__': <attribute '__weakref__' of 'Doctor' objects>, '__doc__': None}\n"
     ]
    }
   ],
   "source": [
    "class Doctor():\n",
    "    def __init__(self, first_name = 'John', last_name = 'Smith'):\n",
    "        self.first_name = first_name\n",
    "        self.last_name = last_name\n",
    "        self.__format_names()\n",
    "        \n",
    "    def __format_names(self):\n",
    "        self.first_name = self.first_name.title()\n",
    "        self.last_name = self.last_name.title()\n",
    "        \n",
    "    def introduce(self):\n",
    "        print('Hi, I am', self.first_name)\n",
    "        \n",
    "    def compare_name(self, name_to_compare):\n",
    "        if self.first_name == name_to_compare:\n",
    "            print('we have the same name...')\n",
    "        else:\n",
    "            print('we have different... names....?')\n",
    "            \n",
    "    def get_first_last_name_together(self):\n",
    "        return self.first_name + ' ' + self.last_name\n",
    "    \n",
    "    def __str__(self):\n",
    "        return 'doctor=' + self.first_name + ' ' + self.last_name\n",
    "\n",
    "    \n",
    "doc_tyler = Doctor('Tyler', 'Jenson') # created a new object in the doctor class\n",
    "doc_tyler.introduce()\n",
    "doc_tyler.compare_name('Baxter')\n",
    "\n",
    "print(doc_tyler.__dict__)\n",
    "print(Doctor.__dict__)"
   ]
  },
  {
   "cell_type": "code",
   "execution_count": 5,
   "id": "7b8a211b",
   "metadata": {},
   "outputs": [
    {
     "name": "stdout",
     "output_type": "stream",
     "text": [
      "<__main__.Doctor object at 0x000001FD206BA320>\n"
     ]
    }
   ],
   "source": [
    "# print function with an object as an argument (WITHOUT THE __str__ method in the class)\n",
    "# print(doc_tyler)\n",
    "\n",
    "# output --> not very useful when you want to debug your code\n",
    "    # we added a new function within the class --> def __str__(self)"
   ]
  },
  {
   "cell_type": "code",
   "execution_count": 8,
   "id": "2454b6ab",
   "metadata": {},
   "outputs": [
    {
     "name": "stdout",
     "output_type": "stream",
     "text": [
      "doctor=Tyler Jenson\n"
     ]
    }
   ],
   "source": [
    "# print function with an object as an argument \n",
    "    # WITH THE __str__ method in the class, with one parameter --> self\n",
    "    # def __str__(self)\n",
    "print(doc_tyler)"
   ]
  },
  {
   "cell_type": "code",
   "execution_count": 13,
   "id": "7d7855a5",
   "metadata": {},
   "outputs": [
    {
     "name": "stdout",
     "output_type": "stream",
     "text": [
      "100\n"
     ]
    }
   ],
   "source": [
    "# can you provide a default value for the first parameter of a constructor (typically named self)?\n",
    "\n",
    "# The answer is: you can do that, but the value will be simply ignored by Python\n",
    "\n",
    "class Car():\n",
    "    def __init__(self = 'default value', speed=100):\n",
    "        self.speed = speed\n",
    "        \n",
    "my_toyota = Car()\n",
    "print(my_toyota.speed)  # 'default value' for self ignored"
   ]
  },
  {
   "cell_type": "code",
   "execution_count": null,
   "id": "676152b4",
   "metadata": {},
   "outputs": [],
   "source": []
  }
 ],
 "metadata": {
  "kernelspec": {
   "display_name": "Python 3 (ipykernel)",
   "language": "python",
   "name": "python3"
  },
  "language_info": {
   "codemirror_mode": {
    "name": "ipython",
    "version": 3
   },
   "file_extension": ".py",
   "mimetype": "text/x-python",
   "name": "python",
   "nbconvert_exporter": "python",
   "pygments_lexer": "ipython3",
   "version": "3.10.9"
  }
 },
 "nbformat": 4,
 "nbformat_minor": 5
}
