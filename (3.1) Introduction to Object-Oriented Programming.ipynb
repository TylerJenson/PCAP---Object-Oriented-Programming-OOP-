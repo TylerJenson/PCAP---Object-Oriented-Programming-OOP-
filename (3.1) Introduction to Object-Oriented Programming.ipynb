{
 "cells": [
  {
   "cell_type": "code",
   "execution_count": 1,
   "id": "c50922df",
   "metadata": {},
   "outputs": [],
   "source": [
    "# so far we have used 'procedural programming' up to this point\n",
    "    # programming model which is derived from structured programming, based upon the concept of calling procedure. \n",
    "    # Procedures --> functions, simply consist of a series of computational steps \n",
    "    # to be carried out\n",
    "    \n",
    "# procedural programming approach\n",
    "    # calling functions to work on data"
   ]
  },
  {
   "cell_type": "code",
   "execution_count": 2,
   "id": "f251a0f8",
   "metadata": {},
   "outputs": [],
   "source": [
    "# procedural programming, continued\n",
    "    # one of the problems is that there are no restrictions\n",
    "    # example; converting C to F, if you accidently supply a bank account number instead, it still works\n",
    "        # object oreinted programming tries to eliminate such problems"
   ]
  },
  {
   "cell_type": "code",
   "execution_count": 3,
   "id": "f30e5e6e",
   "metadata": {},
   "outputs": [],
   "source": [
    "# object oriented programming\n",
    "    # much younger than procedural programming\n",
    "    # the standard for most big applications\n",
    "    \n",
    "    # data and functions are kept together in 'objects'\n",
    "    # 'object' --> structure that has some data in the form of traits\n",
    "        # 'traits' --> called properties, ATTRIBUTES, or fields"
   ]
  },
  {
   "cell_type": "code",
   "execution_count": 1,
   "id": "1073906b",
   "metadata": {},
   "outputs": [],
   "source": [
    "# objects, and function\n",
    "    # functions inside objects are called 'methods'"
   ]
  },
  {
   "cell_type": "code",
   "execution_count": 2,
   "id": "abab6728",
   "metadata": {},
   "outputs": [
    {
     "name": "stdout",
     "output_type": "stream",
     "text": [
      "what is the width? 10\n",
      "what is the height? 3\n",
      "the area is 30\n"
     ]
    }
   ],
   "source": [
    "# example 1.1; area of a rectangle -- procedural programming\n",
    "\n",
    "def calculate_area(width, height):\n",
    "    return width*height\n",
    "\n",
    "width = int(input('what is the width? '))\n",
    "height = int(input('what is the height? '))\n",
    "area = calculate_area(width, height)\n",
    "print('the area is', area)"
   ]
  },
  {
   "cell_type": "code",
   "execution_count": 5,
   "id": "0163af5a",
   "metadata": {},
   "outputs": [
    {
     "name": "stdout",
     "output_type": "stream",
     "text": [
      "what is the width? 10\n",
      "what is the height? 3\n",
      "the area is 30\n",
      "hey, and what is your age? 30\n",
      "your age multiplied by the height is 90\n"
     ]
    }
   ],
   "source": [
    "# example 1.2 area of a rectangle -- procedural programming\n",
    "\n",
    "def calculate_area(width, height):\n",
    "    return width*height\n",
    "\n",
    "width = int(input('what is the width? '))\n",
    "height = int(input('what is the height? '))\n",
    "area = calculate_area(width, height)\n",
    "print('the area is', area)\n",
    "\n",
    "age = int(input('hey, and what is your age? '))\n",
    "strange_operation = calculate_area(age,height)\n",
    "print('your age multiplied by the height is', strange_operation)\n",
    "\n",
    "\n",
    "# MAIN POINT -the function works fine, even though we passed an argument that doesn't make much sense"
   ]
  },
  {
   "cell_type": "code",
   "execution_count": 6,
   "id": "62b8d7b0",
   "metadata": {},
   "outputs": [
    {
     "name": "stdout",
     "output_type": "stream",
     "text": [
      "what is the width? 10\n",
      "what is the height? 3\n",
      "the area is 30\n"
     ]
    }
   ],
   "source": [
    "# example 2 ; area of a rectangle -- object oriented programming\n",
    "\n",
    "# below, is a 'class'\n",
    "    # class --> template for creating objects (rectangles) of the same type\n",
    "class Rectangle:\n",
    "    def __init__(self, width, height):\n",
    "        self.width = width\n",
    "        self.height = height\n",
    "        \n",
    "    def get_area(self):\n",
    "        return self.width*self.height\n",
    "    \n",
    "    \n",
    "# asking user for width and height   \n",
    "a = int(input('what is the width? '))\n",
    "b = int(input('what is the height? '))\n",
    "\n",
    "# creating a new rectangle object based on user input\n",
    "rectangle = Rectangle(a,b)\n",
    "print('the area is', rectangle.get_area())\n",
    "\n",
    "    # from this point on; the 2 variables 'a' and 'b' are tied together; they are no longer 2 separate variables \n",
    "        # (like in procedural programming)"
   ]
  },
  {
   "cell_type": "code",
   "execution_count": null,
   "id": "b38c8ee1",
   "metadata": {},
   "outputs": [],
   "source": [
    "# why bother creating a rectangle object from a rectangle class if you get the same output?\n",
    "\n",
    "# in OOP, you clearly define what types of data is used in your application; more useful in bigger applications"
   ]
  }
 ],
 "metadata": {
  "kernelspec": {
   "display_name": "Python 3 (ipykernel)",
   "language": "python",
   "name": "python3"
  },
  "language_info": {
   "codemirror_mode": {
    "name": "ipython",
    "version": 3
   },
   "file_extension": ".py",
   "mimetype": "text/x-python",
   "name": "python",
   "nbconvert_exporter": "python",
   "pygments_lexer": "ipython3",
   "version": "3.10.9"
  }
 },
 "nbformat": 4,
 "nbformat_minor": 5
}
